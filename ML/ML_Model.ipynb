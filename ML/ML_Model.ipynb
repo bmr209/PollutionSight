{
 "cells": [
  {
   "cell_type": "code",
   "execution_count": 9,
   "id": "7d12bb10",
   "metadata": {},
   "outputs": [],
   "source": [
    "#Provisional Machine Learning Model by Claire Golden\n",
    "#Goal) input: pollution and air quality index values, \n",
    "#Goal) output: predicted values of air index quality based on existing patterns of pollutants and aqi values\n",
    "#Model) Multiple Regression: estimating that pollutants steadily or drastically increase with time, also estimating that these 4 main pollutants directly effect air quality\n",
    "#Training) will use data on 4 main pollutant levels from 2000-2016 and the corresponding air quality index values to train \n",
    "#End of Week 2 thoughts: Accuracy of the multiple regression is not so good, might add 4 linear regression models for each pollutant and see if those are more accurate. Also thinking of how to remove outliers for the multiple regression, maybe if I exclude aqi values over 500 or 600 I could get a more clear pattern line"
   ]
  },
  {
   "cell_type": "code",
   "execution_count": 36,
   "id": "3a94a59b",
   "metadata": {},
   "outputs": [],
   "source": [
    "# Load libraries\n",
    "import numpy as np\n",
    "import pandas as pd\n",
    "from pandas import read_csv\n",
    "from pandas.plotting import scatter_matrix\n",
    "from matplotlib import pyplot as plt\n",
    "from sklearn.model_selection import train_test_split\n",
    "from sklearn.metrics import accuracy_score\n",
    "from sklearn.linear_model import LogisticRegression\n",
    "from sklearn.svm import SVC\n",
    "from sklearn.metrics import mean_absolute_error\n",
    "from sklearn.metrics import mean_squared_error"
   ]
  },
  {
   "cell_type": "code",
   "execution_count": 37,
   "id": "d0b2f0ec",
   "metadata": {},
   "outputs": [
    {
     "data": {
      "text/html": [
       "<div>\n",
       "<style scoped>\n",
       "    .dataframe tbody tr th:only-of-type {\n",
       "        vertical-align: middle;\n",
       "    }\n",
       "\n",
       "    .dataframe tbody tr th {\n",
       "        vertical-align: top;\n",
       "    }\n",
       "\n",
       "    .dataframe thead th {\n",
       "        text-align: right;\n",
       "    }\n",
       "</style>\n",
       "<table border=\"1\" class=\"dataframe\">\n",
       "  <thead>\n",
       "    <tr style=\"text-align: right;\">\n",
       "      <th></th>\n",
       "      <th>usstate</th>\n",
       "      <th>county</th>\n",
       "      <th>local_date</th>\n",
       "      <th>no2maxvalue</th>\n",
       "      <th>o3maxvalue</th>\n",
       "      <th>so2maxvalue</th>\n",
       "      <th>comaxvalue</th>\n",
       "      <th>aqi</th>\n",
       "    </tr>\n",
       "  </thead>\n",
       "  <tbody>\n",
       "    <tr>\n",
       "      <th>0</th>\n",
       "      <td>Arizona</td>\n",
       "      <td>Maricopa</td>\n",
       "      <td>2000-01-01</td>\n",
       "      <td>49.0</td>\n",
       "      <td>0.040</td>\n",
       "      <td>9.0</td>\n",
       "      <td>2.2</td>\n",
       "      <td>101</td>\n",
       "    </tr>\n",
       "    <tr>\n",
       "      <th>1</th>\n",
       "      <td>California</td>\n",
       "      <td>Santa Cruz</td>\n",
       "      <td>2000-01-01</td>\n",
       "      <td>19.0</td>\n",
       "      <td>0.028</td>\n",
       "      <td>7.0</td>\n",
       "      <td>0.3</td>\n",
       "      <td>32</td>\n",
       "    </tr>\n",
       "    <tr>\n",
       "      <th>2</th>\n",
       "      <td>California</td>\n",
       "      <td>Solano</td>\n",
       "      <td>2000-01-01</td>\n",
       "      <td>26.0</td>\n",
       "      <td>0.025</td>\n",
       "      <td>3.0</td>\n",
       "      <td>0.5</td>\n",
       "      <td>61</td>\n",
       "    </tr>\n",
       "    <tr>\n",
       "      <th>3</th>\n",
       "      <td>District Of Columbia</td>\n",
       "      <td>District of Columbia</td>\n",
       "      <td>2000-01-01</td>\n",
       "      <td>39.0</td>\n",
       "      <td>0.014</td>\n",
       "      <td>33.0</td>\n",
       "      <td>3.6</td>\n",
       "      <td>120</td>\n",
       "    </tr>\n",
       "    <tr>\n",
       "      <th>4</th>\n",
       "      <td>New York</td>\n",
       "      <td>Queens</td>\n",
       "      <td>2000-01-01</td>\n",
       "      <td>38.0</td>\n",
       "      <td>0.004</td>\n",
       "      <td>26.0</td>\n",
       "      <td>1.1</td>\n",
       "      <td>104</td>\n",
       "    </tr>\n",
       "    <tr>\n",
       "      <th>...</th>\n",
       "      <td>...</td>\n",
       "      <td>...</td>\n",
       "      <td>...</td>\n",
       "      <td>...</td>\n",
       "      <td>...</td>\n",
       "      <td>...</td>\n",
       "      <td>...</td>\n",
       "      <td>...</td>\n",
       "    </tr>\n",
       "    <tr>\n",
       "      <th>326600</th>\n",
       "      <td>Maine</td>\n",
       "      <td>Cumberland</td>\n",
       "      <td>2016-05-29</td>\n",
       "      <td>15.2</td>\n",
       "      <td>0.026</td>\n",
       "      <td>1.6</td>\n",
       "      <td>0.3</td>\n",
       "      <td>25</td>\n",
       "    </tr>\n",
       "    <tr>\n",
       "      <th>326601</th>\n",
       "      <td>Alabama</td>\n",
       "      <td>Jefferson</td>\n",
       "      <td>2016-05-30</td>\n",
       "      <td>37.1</td>\n",
       "      <td>0.048</td>\n",
       "      <td>10.1</td>\n",
       "      <td>0.5</td>\n",
       "      <td>60</td>\n",
       "    </tr>\n",
       "    <tr>\n",
       "      <th>326602</th>\n",
       "      <td>Maine</td>\n",
       "      <td>Cumberland</td>\n",
       "      <td>2016-05-30</td>\n",
       "      <td>15.5</td>\n",
       "      <td>0.021</td>\n",
       "      <td>0.1</td>\n",
       "      <td>0.3</td>\n",
       "      <td>26</td>\n",
       "    </tr>\n",
       "    <tr>\n",
       "      <th>326603</th>\n",
       "      <td>Alabama</td>\n",
       "      <td>Jefferson</td>\n",
       "      <td>2016-05-31</td>\n",
       "      <td>34.3</td>\n",
       "      <td>0.052</td>\n",
       "      <td>22.2</td>\n",
       "      <td>0.5</td>\n",
       "      <td>64</td>\n",
       "    </tr>\n",
       "    <tr>\n",
       "      <th>326604</th>\n",
       "      <td>Maine</td>\n",
       "      <td>Cumberland</td>\n",
       "      <td>2016-05-31</td>\n",
       "      <td>11.8</td>\n",
       "      <td>0.043</td>\n",
       "      <td>0.2</td>\n",
       "      <td>0.3</td>\n",
       "      <td>46</td>\n",
       "    </tr>\n",
       "  </tbody>\n",
       "</table>\n",
       "<p>326605 rows × 8 columns</p>\n",
       "</div>"
      ],
      "text/plain": [
       "                     usstate                county  local_date  no2maxvalue  \\\n",
       "0                    Arizona              Maricopa  2000-01-01         49.0   \n",
       "1                 California            Santa Cruz  2000-01-01         19.0   \n",
       "2                 California                Solano  2000-01-01         26.0   \n",
       "3       District Of Columbia  District of Columbia  2000-01-01         39.0   \n",
       "4                   New York                Queens  2000-01-01         38.0   \n",
       "...                      ...                   ...         ...          ...   \n",
       "326600                 Maine            Cumberland  2016-05-29         15.2   \n",
       "326601               Alabama             Jefferson  2016-05-30         37.1   \n",
       "326602                 Maine            Cumberland  2016-05-30         15.5   \n",
       "326603               Alabama             Jefferson  2016-05-31         34.3   \n",
       "326604                 Maine            Cumberland  2016-05-31         11.8   \n",
       "\n",
       "        o3maxvalue  so2maxvalue  comaxvalue  aqi  \n",
       "0            0.040          9.0         2.2  101  \n",
       "1            0.028          7.0         0.3   32  \n",
       "2            0.025          3.0         0.5   61  \n",
       "3            0.014         33.0         3.6  120  \n",
       "4            0.004         26.0         1.1  104  \n",
       "...            ...          ...         ...  ...  \n",
       "326600       0.026          1.6         0.3   25  \n",
       "326601       0.048         10.1         0.5   60  \n",
       "326602       0.021          0.1         0.3   26  \n",
       "326603       0.052         22.2         0.5   64  \n",
       "326604       0.043          0.2         0.3   46  \n",
       "\n",
       "[326605 rows x 8 columns]"
      ]
     },
     "metadata": {},
     "output_type": "display_data"
    }
   ],
   "source": [
    "df = pd.read_csv(r'resources/clean_combo_data.csv')\n",
    "display(df)\n",
    "                           "
   ]
  },
  {
   "cell_type": "code",
   "execution_count": 38,
   "id": "fb08aaa8",
   "metadata": {},
   "outputs": [
    {
     "data": {
      "text/plain": [
       "usstate         object\n",
       "county          object\n",
       "local_date      object\n",
       "no2maxvalue    float64\n",
       "o3maxvalue     float64\n",
       "so2maxvalue    float64\n",
       "comaxvalue     float64\n",
       "aqi              int64\n",
       "dtype: object"
      ]
     },
     "execution_count": 38,
     "metadata": {},
     "output_type": "execute_result"
    }
   ],
   "source": [
    "df.dtypes"
   ]
  },
  {
   "cell_type": "code",
   "execution_count": 39,
   "id": "a3415c74",
   "metadata": {},
   "outputs": [
    {
     "name": "stdout",
     "output_type": "stream",
     "text": [
      "(326605, 8)\n"
     ]
    }
   ],
   "source": [
    "print(df.shape)"
   ]
  },
  {
   "cell_type": "code",
   "execution_count": 40,
   "id": "c452b985",
   "metadata": {},
   "outputs": [
    {
     "data": {
      "text/html": [
       "<div>\n",
       "<style scoped>\n",
       "    .dataframe tbody tr th:only-of-type {\n",
       "        vertical-align: middle;\n",
       "    }\n",
       "\n",
       "    .dataframe tbody tr th {\n",
       "        vertical-align: top;\n",
       "    }\n",
       "\n",
       "    .dataframe thead th {\n",
       "        text-align: right;\n",
       "    }\n",
       "</style>\n",
       "<table border=\"1\" class=\"dataframe\">\n",
       "  <thead>\n",
       "    <tr style=\"text-align: right;\">\n",
       "      <th></th>\n",
       "      <th>no2maxvalue</th>\n",
       "      <th>o3maxvalue</th>\n",
       "      <th>so2maxvalue</th>\n",
       "      <th>comaxvalue</th>\n",
       "      <th>aqi</th>\n",
       "    </tr>\n",
       "  </thead>\n",
       "  <tbody>\n",
       "    <tr>\n",
       "      <th>count</th>\n",
       "      <td>326605.000000</td>\n",
       "      <td>326605.000000</td>\n",
       "      <td>326605.000000</td>\n",
       "      <td>326605.000000</td>\n",
       "      <td>326605.000000</td>\n",
       "    </tr>\n",
       "    <tr>\n",
       "      <th>mean</th>\n",
       "      <td>25.241961</td>\n",
       "      <td>0.039541</td>\n",
       "      <td>5.709174</td>\n",
       "      <td>0.510533</td>\n",
       "      <td>57.482430</td>\n",
       "    </tr>\n",
       "    <tr>\n",
       "      <th>std</th>\n",
       "      <td>15.312272</td>\n",
       "      <td>0.015679</td>\n",
       "      <td>9.734395</td>\n",
       "      <td>0.486566</td>\n",
       "      <td>30.993577</td>\n",
       "    </tr>\n",
       "    <tr>\n",
       "      <th>min</th>\n",
       "      <td>-2.000000</td>\n",
       "      <td>0.000000</td>\n",
       "      <td>-2.000000</td>\n",
       "      <td>-0.400000</td>\n",
       "      <td>0.000000</td>\n",
       "    </tr>\n",
       "    <tr>\n",
       "      <th>25%</th>\n",
       "      <td>13.000000</td>\n",
       "      <td>0.029000</td>\n",
       "      <td>1.000000</td>\n",
       "      <td>0.200000</td>\n",
       "      <td>38.000000</td>\n",
       "    </tr>\n",
       "    <tr>\n",
       "      <th>50%</th>\n",
       "      <td>24.000000</td>\n",
       "      <td>0.038000</td>\n",
       "      <td>2.200000</td>\n",
       "      <td>0.400000</td>\n",
       "      <td>49.000000</td>\n",
       "    </tr>\n",
       "    <tr>\n",
       "      <th>75%</th>\n",
       "      <td>35.000000</td>\n",
       "      <td>0.049000</td>\n",
       "      <td>6.000000</td>\n",
       "      <td>0.600000</td>\n",
       "      <td>67.000000</td>\n",
       "    </tr>\n",
       "    <tr>\n",
       "      <th>max</th>\n",
       "      <td>244.000000</td>\n",
       "      <td>0.141000</td>\n",
       "      <td>351.000000</td>\n",
       "      <td>15.500000</td>\n",
       "      <td>1108.000000</td>\n",
       "    </tr>\n",
       "  </tbody>\n",
       "</table>\n",
       "</div>"
      ],
      "text/plain": [
       "         no2maxvalue     o3maxvalue    so2maxvalue     comaxvalue  \\\n",
       "count  326605.000000  326605.000000  326605.000000  326605.000000   \n",
       "mean       25.241961       0.039541       5.709174       0.510533   \n",
       "std        15.312272       0.015679       9.734395       0.486566   \n",
       "min        -2.000000       0.000000      -2.000000      -0.400000   \n",
       "25%        13.000000       0.029000       1.000000       0.200000   \n",
       "50%        24.000000       0.038000       2.200000       0.400000   \n",
       "75%        35.000000       0.049000       6.000000       0.600000   \n",
       "max       244.000000       0.141000     351.000000      15.500000   \n",
       "\n",
       "                 aqi  \n",
       "count  326605.000000  \n",
       "mean       57.482430  \n",
       "std        30.993577  \n",
       "min         0.000000  \n",
       "25%        38.000000  \n",
       "50%        49.000000  \n",
       "75%        67.000000  \n",
       "max      1108.000000  "
      ]
     },
     "execution_count": 40,
     "metadata": {},
     "output_type": "execute_result"
    }
   ],
   "source": [
    "df.describe()"
   ]
  },
  {
   "cell_type": "code",
   "execution_count": 41,
   "id": "1b2bbb4a",
   "metadata": {},
   "outputs": [],
   "source": [
    "#Separate clean dataframe into features and target variable \n",
    "X = df[['no2maxvalue', 'o3maxvalue', 'so2maxvalue', 'comaxvalue']].values\n",
    "y = df['aqi'].values"
   ]
  },
  {
   "cell_type": "code",
   "execution_count": 42,
   "id": "1ce9c197",
   "metadata": {},
   "outputs": [],
   "source": [
    "#Split into training and testing sets\n",
    "from sklearn.model_selection import train_test_split \n",
    "X_train, X_test, y_train, y_test = train_test_split(X, y, test_size=0.3, random_state=1)"
   ]
  },
  {
   "cell_type": "code",
   "execution_count": 43,
   "id": "8b192426",
   "metadata": {},
   "outputs": [
    {
     "data": {
      "text/html": [
       "<style>#sk-container-id-2 {color: black;background-color: white;}#sk-container-id-2 pre{padding: 0;}#sk-container-id-2 div.sk-toggleable {background-color: white;}#sk-container-id-2 label.sk-toggleable__label {cursor: pointer;display: block;width: 100%;margin-bottom: 0;padding: 0.3em;box-sizing: border-box;text-align: center;}#sk-container-id-2 label.sk-toggleable__label-arrow:before {content: \"▸\";float: left;margin-right: 0.25em;color: #696969;}#sk-container-id-2 label.sk-toggleable__label-arrow:hover:before {color: black;}#sk-container-id-2 div.sk-estimator:hover label.sk-toggleable__label-arrow:before {color: black;}#sk-container-id-2 div.sk-toggleable__content {max-height: 0;max-width: 0;overflow: hidden;text-align: left;background-color: #f0f8ff;}#sk-container-id-2 div.sk-toggleable__content pre {margin: 0.2em;color: black;border-radius: 0.25em;background-color: #f0f8ff;}#sk-container-id-2 input.sk-toggleable__control:checked~div.sk-toggleable__content {max-height: 200px;max-width: 100%;overflow: auto;}#sk-container-id-2 input.sk-toggleable__control:checked~label.sk-toggleable__label-arrow:before {content: \"▾\";}#sk-container-id-2 div.sk-estimator input.sk-toggleable__control:checked~label.sk-toggleable__label {background-color: #d4ebff;}#sk-container-id-2 div.sk-label input.sk-toggleable__control:checked~label.sk-toggleable__label {background-color: #d4ebff;}#sk-container-id-2 input.sk-hidden--visually {border: 0;clip: rect(1px 1px 1px 1px);clip: rect(1px, 1px, 1px, 1px);height: 1px;margin: -1px;overflow: hidden;padding: 0;position: absolute;width: 1px;}#sk-container-id-2 div.sk-estimator {font-family: monospace;background-color: #f0f8ff;border: 1px dotted black;border-radius: 0.25em;box-sizing: border-box;margin-bottom: 0.5em;}#sk-container-id-2 div.sk-estimator:hover {background-color: #d4ebff;}#sk-container-id-2 div.sk-parallel-item::after {content: \"\";width: 100%;border-bottom: 1px solid gray;flex-grow: 1;}#sk-container-id-2 div.sk-label:hover label.sk-toggleable__label {background-color: #d4ebff;}#sk-container-id-2 div.sk-serial::before {content: \"\";position: absolute;border-left: 1px solid gray;box-sizing: border-box;top: 0;bottom: 0;left: 50%;z-index: 0;}#sk-container-id-2 div.sk-serial {display: flex;flex-direction: column;align-items: center;background-color: white;padding-right: 0.2em;padding-left: 0.2em;position: relative;}#sk-container-id-2 div.sk-item {position: relative;z-index: 1;}#sk-container-id-2 div.sk-parallel {display: flex;align-items: stretch;justify-content: center;background-color: white;position: relative;}#sk-container-id-2 div.sk-item::before, #sk-container-id-2 div.sk-parallel-item::before {content: \"\";position: absolute;border-left: 1px solid gray;box-sizing: border-box;top: 0;bottom: 0;left: 50%;z-index: -1;}#sk-container-id-2 div.sk-parallel-item {display: flex;flex-direction: column;z-index: 1;position: relative;background-color: white;}#sk-container-id-2 div.sk-parallel-item:first-child::after {align-self: flex-end;width: 50%;}#sk-container-id-2 div.sk-parallel-item:last-child::after {align-self: flex-start;width: 50%;}#sk-container-id-2 div.sk-parallel-item:only-child::after {width: 0;}#sk-container-id-2 div.sk-dashed-wrapped {border: 1px dashed gray;margin: 0 0.4em 0.5em 0.4em;box-sizing: border-box;padding-bottom: 0.4em;background-color: white;}#sk-container-id-2 div.sk-label label {font-family: monospace;font-weight: bold;display: inline-block;line-height: 1.2em;}#sk-container-id-2 div.sk-label-container {text-align: center;}#sk-container-id-2 div.sk-container {/* jupyter's `normalize.less` sets `[hidden] { display: none; }` but bootstrap.min.css set `[hidden] { display: none !important; }` so we also need the `!important` here to be able to override the default hidden behavior on the sphinx rendered scikit-learn.org. See: https://github.com/scikit-learn/scikit-learn/issues/21755 */display: inline-block !important;position: relative;}#sk-container-id-2 div.sk-text-repr-fallback {display: none;}</style><div id=\"sk-container-id-2\" class=\"sk-top-container\"><div class=\"sk-text-repr-fallback\"><pre>LinearRegression()</pre><b>In a Jupyter environment, please rerun this cell to show the HTML representation or trust the notebook. <br />On GitHub, the HTML representation is unable to render, please try loading this page with nbviewer.org.</b></div><div class=\"sk-container\" hidden><div class=\"sk-item\"><div class=\"sk-estimator sk-toggleable\"><input class=\"sk-toggleable__control sk-hidden--visually\" id=\"sk-estimator-id-2\" type=\"checkbox\" checked><label for=\"sk-estimator-id-2\" class=\"sk-toggleable__label sk-toggleable__label-arrow\">LinearRegression</label><div class=\"sk-toggleable__content\"><pre>LinearRegression()</pre></div></div></div></div></div>"
      ],
      "text/plain": [
       "LinearRegression()"
      ]
     },
     "execution_count": 43,
     "metadata": {},
     "output_type": "execute_result"
    }
   ],
   "source": [
    "#Linear regression model \n",
    "from sklearn.linear_model import LinearRegression\n",
    "lin_regr = LinearRegression()\n",
    "lin_regr.fit(X_train, y_train)"
   ]
  },
  {
   "cell_type": "code",
   "execution_count": 44,
   "id": "741fd218",
   "metadata": {},
   "outputs": [
    {
     "name": "stdout",
     "output_type": "stream",
     "text": [
      "[43.09486043 43.4546495  48.14627498 ... 67.17920217 79.3713953\n",
      " 97.88111403]\n"
     ]
    }
   ],
   "source": [
    "y_pred = lin_regr.predict(X_test)\n",
    "print(y_pred)"
   ]
  },
  {
   "cell_type": "code",
   "execution_count": 45,
   "id": "f16be9bd",
   "metadata": {},
   "outputs": [
    {
     "data": {
      "text/plain": [
       "array([89.65449649])"
      ]
     },
     "execution_count": 45,
     "metadata": {},
     "output_type": "execute_result"
    }
   ],
   "source": [
    "#test model with values from first row, output should be around 101\n",
    "lin_regr.predict([[49.0, 0.040, 9.0, 2.2]])"
   ]
  },
  {
   "cell_type": "code",
   "execution_count": 46,
   "id": "8f8530af",
   "metadata": {},
   "outputs": [
    {
     "data": {
      "text/plain": [
       "no2maxvalue    0.351920\n",
       "o3maxvalue     0.545639\n",
       "so2maxvalue    0.120138\n",
       "comaxvalue     0.221987\n",
       "aqi            1.000000\n",
       "Name: aqi, dtype: float64"
      ]
     },
     "execution_count": 46,
     "metadata": {},
     "output_type": "execute_result"
    }
   ],
   "source": [
    "#examine correlation between aqi and pollutant variables\n",
    "df.corr()['aqi']"
   ]
  },
  {
   "cell_type": "code",
   "execution_count": 47,
   "id": "3729155e",
   "metadata": {},
   "outputs": [
    {
     "data": {
      "image/png": "[encoded data removed]",
      "text/plain": [
       "<Figure size 432x288 with 1 Axes>"
      ]
     },
     "metadata": {
      "needs_background": "light"
     },
     "output_type": "display_data"
    }
   ],
   "source": [
    "plt.scatter(df['no2maxvalue'], df['aqi'])\n",
    "plt.xlabel('NO2 Max Value')\n",
    "plt.ylabel('AQI')\n",
    "plt.title('NO2 Max Value vs. AQI')\n",
    "plt.show()"
   ]
  },
  {
   "cell_type": "code",
   "execution_count": 48,
   "id": "c84ba3dc",
   "metadata": {},
   "outputs": [
    {
     "data": {
      "image/png": "[encoded data removed]",
      "text/plain": [
       "<Figure size 432x288 with 1 Axes>"
      ]
     },
     "metadata": {
      "needs_background": "light"
     },
     "output_type": "display_data"
    }
   ],
   "source": [
    "plt.scatter(df['o3maxvalue'], df['aqi'])\n",
    "plt.xlabel('O3 Max Value')\n",
    "plt.ylabel('AQI')\n",
    "plt.title('O3 Max Value vs. AQI')\n",
    "plt.show()"
   ]
  },
  {
   "cell_type": "code",
   "execution_count": 49,
   "id": "82c38dca",
   "metadata": {},
   "outputs": [
    {
     "data": {
      "image/png": "[encoded data removed]",
      "text/plain": [
       "<Figure size 432x288 with 1 Axes>"
      ]
     },
     "metadata": {
      "needs_background": "light"
     },
     "output_type": "display_data"
    }
   ],
   "source": [
    "plt.scatter(df['so2maxvalue'], df['aqi'])\n",
    "plt.xlabel('SO2 Max Value')\n",
    "plt.ylabel('AQI')\n",
    "plt.title('SO2 Max Value vs. AQI')\n",
    "plt.show()"
   ]
  },
  {
   "cell_type": "code",
   "execution_count": 50,
   "id": "763e739f",
   "metadata": {},
   "outputs": [
    {
     "data": {
      "image/png": "[encoded data removed]",
      "text/plain": [
       "<Figure size 432x288 with 1 Axes>"
      ]
     },
     "metadata": {
      "needs_background": "light"
     },
     "output_type": "display_data"
    }
   ],
   "source": [
    "plt.scatter(df['comaxvalue'], df['aqi'])\n",
    "plt.xlabel('CO Max Value')\n",
    "plt.ylabel('AQI')\n",
    "plt.title('CO Max Value vs. AQI')\n",
    "plt.show()"
   ]
  },
  {
   "cell_type": "code",
   "execution_count": 14,
   "id": "1cadd6a0",
   "metadata": {},
   "outputs": [
    {
     "name": "stdout",
     "output_type": "stream",
     "text": [
      "[4.73809568e-01 1.13508053e+03 4.12158203e-02 1.18578691e+01]\n"
     ]
    }
   ],
   "source": [
    "lin_regr.fit(X,y)\n",
    "print(lin_regr.coef_)"
   ]
  },
  {
   "cell_type": "code",
   "execution_count": 16,
   "id": "ba86f1de",
   "metadata": {},
   "outputs": [
    {
     "name": "stdout",
     "output_type": "stream",
     "text": [
      "(326605, 4)\n",
      "(326605,)\n"
     ]
    }
   ],
   "source": [
    "print(X.shape)\n",
    "print(y.shape)"
   ]
  },
  {
   "cell_type": "code",
   "execution_count": 21,
   "id": "c04e1798",
   "metadata": {},
   "outputs": [
    {
     "data": {
      "text/plain": [
       "0.44725770192962944"
      ]
     },
     "execution_count": 21,
     "metadata": {},
     "output_type": "execute_result"
    }
   ],
   "source": [
    "from sklearn.metrics import r2_score\n",
    "r2_score(y_test, y_pred)"
   ]
  },
  {
   "cell_type": "code",
   "execution_count": 23,
   "id": "6349befb",
   "metadata": {},
   "outputs": [
    {
     "data": {
      "text/plain": [
       "Text(0.5, 1.0, 'Actual vs. Predicted')"
      ]
     },
     "execution_count": 23,
     "metadata": {},
     "output_type": "execute_result"
    },
    {
     "data": {
      "image/png": "[encoded data removed]",
      "text/plain": [
       "<Figure size 432x288 with 1 Axes>"
      ]
     },
     "metadata": {
      "needs_background": "light"
     },
     "output_type": "display_data"
    }
   ],
   "source": [
    "plt.scatter(y_test, y_pred)\n",
    "plt.xlabel('Actual')\n",
    "plt.ylabel('Predicted')\n",
    "plt.title('Actual vs. Predicted')"
   ]
  },
  {
   "cell_type": "code",
   "execution_count": 25,
   "id": "73160a06",
   "metadata": {},
   "outputs": [
    {
     "data": {
      "text/html": [
       "<div>\n",
       "<style scoped>\n",
       "    .dataframe tbody tr th:only-of-type {\n",
       "        vertical-align: middle;\n",
       "    }\n",
       "\n",
       "    .dataframe tbody tr th {\n",
       "        vertical-align: top;\n",
       "    }\n",
       "\n",
       "    .dataframe thead th {\n",
       "        text-align: right;\n",
       "    }\n",
       "</style>\n",
       "<table border=\"1\" class=\"dataframe\">\n",
       "  <thead>\n",
       "    <tr style=\"text-align: right;\">\n",
       "      <th></th>\n",
       "      <th>Actual Value</th>\n",
       "      <th>Predicted Value</th>\n",
       "      <th>Difference</th>\n",
       "    </tr>\n",
       "  </thead>\n",
       "  <tbody>\n",
       "    <tr>\n",
       "      <th>0</th>\n",
       "      <td>37</td>\n",
       "      <td>43.094860</td>\n",
       "      <td>-6.094860</td>\n",
       "    </tr>\n",
       "    <tr>\n",
       "      <th>1</th>\n",
       "      <td>70</td>\n",
       "      <td>43.454649</td>\n",
       "      <td>26.545351</td>\n",
       "    </tr>\n",
       "    <tr>\n",
       "      <th>2</th>\n",
       "      <td>41</td>\n",
       "      <td>48.146275</td>\n",
       "      <td>-7.146275</td>\n",
       "    </tr>\n",
       "    <tr>\n",
       "      <th>3</th>\n",
       "      <td>133</td>\n",
       "      <td>86.286742</td>\n",
       "      <td>46.713258</td>\n",
       "    </tr>\n",
       "    <tr>\n",
       "      <th>4</th>\n",
       "      <td>28</td>\n",
       "      <td>48.030970</td>\n",
       "      <td>-20.030970</td>\n",
       "    </tr>\n",
       "    <tr>\n",
       "      <th>...</th>\n",
       "      <td>...</td>\n",
       "      <td>...</td>\n",
       "      <td>...</td>\n",
       "    </tr>\n",
       "    <tr>\n",
       "      <th>97977</th>\n",
       "      <td>115</td>\n",
       "      <td>59.315641</td>\n",
       "      <td>55.684359</td>\n",
       "    </tr>\n",
       "    <tr>\n",
       "      <th>97978</th>\n",
       "      <td>179</td>\n",
       "      <td>111.071972</td>\n",
       "      <td>67.928028</td>\n",
       "    </tr>\n",
       "    <tr>\n",
       "      <th>97979</th>\n",
       "      <td>45</td>\n",
       "      <td>67.179202</td>\n",
       "      <td>-22.179202</td>\n",
       "    </tr>\n",
       "    <tr>\n",
       "      <th>97980</th>\n",
       "      <td>80</td>\n",
       "      <td>79.371395</td>\n",
       "      <td>0.628605</td>\n",
       "    </tr>\n",
       "    <tr>\n",
       "      <th>97981</th>\n",
       "      <td>150</td>\n",
       "      <td>97.881114</td>\n",
       "      <td>52.118886</td>\n",
       "    </tr>\n",
       "  </tbody>\n",
       "</table>\n",
       "<p>97982 rows × 3 columns</p>\n",
       "</div>"
      ],
      "text/plain": [
       "       Actual Value  Predicted Value  Difference\n",
       "0                37        43.094860   -6.094860\n",
       "1                70        43.454649   26.545351\n",
       "2                41        48.146275   -7.146275\n",
       "3               133        86.286742   46.713258\n",
       "4                28        48.030970  -20.030970\n",
       "...             ...              ...         ...\n",
       "97977           115        59.315641   55.684359\n",
       "97978           179       111.071972   67.928028\n",
       "97979            45        67.179202  -22.179202\n",
       "97980            80        79.371395    0.628605\n",
       "97981           150        97.881114   52.118886\n",
       "\n",
       "[97982 rows x 3 columns]"
      ]
     },
     "metadata": {},
     "output_type": "display_data"
    }
   ],
   "source": [
    "pred_y_df = pd.DataFrame({'Actual Value':y_test, 'Predicted Value':y_pred, 'Difference': y_test-y_pred})\n",
    "display(pred_y_df)"
   ]
  },
  {
   "cell_type": "code",
   "execution_count": null,
   "id": "8da587a4",
   "metadata": {},
   "outputs": [],
   "source": []
  },
  {
   "cell_type": "code",
   "execution_count": null,
   "id": "aeb2cf84",
   "metadata": {},
   "outputs": [],
   "source": []
  }
 ],
 "metadata": {
  "kernelspec": {
   "display_name": "PythonData",
   "language": "python",
   "name": "pythondata"
  },
  "language_info": {
   "codemirror_mode": {
    "name": "ipython",
    "version": 3
   },
   "file_extension": ".py",
   "mimetype": "text/x-python",
   "name": "python",
   "nbconvert_exporter": "python",
   "pygments_lexer": "ipython3",
   "version": "3.9.7"
  }
 },
 "nbformat": 4,
 "nbformat_minor": 5
}
