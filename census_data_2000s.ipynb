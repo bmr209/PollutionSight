{
  "nbformat": 4,
  "nbformat_minor": 0,
  "metadata": {
    "colab": {
      "name": "census_data_2000s.ipynb",
      "provenance": [],
      "collapsed_sections": []
    },
    "kernelspec": {
      "name": "python3",
      "display_name": "Python 3"
    },
    "language_info": {
      "name": "python"
    }
  },
  "cells": [
    {
      "cell_type": "code",
      "execution_count": null,
      "metadata": {
        "colab": {
          "base_uri": "https://localhost:8080/"
        },
        "id": "6pQNaG1sPsiD",
        "outputId": "551f8e24-af50-46dc-db37-cb4fbb955ae3"
      },
      "outputs": [
        {
          "output_type": "stream",
          "name": "stdout",
          "text": [
            "\r0% [Working]\r            \rHit:1 https://developer.download.nvidia.com/compute/cuda/repos/ubuntu1804/x86_64  InRelease\n",
            "Get:2 https://cloud.r-project.org/bin/linux/ubuntu bionic-cran40/ InRelease [3,626 B]\n",
            "Get:3 http://security.ubuntu.com/ubuntu bionic-security InRelease [88.7 kB]\n",
            "Hit:4 http://ppa.launchpad.net/c2d4u.team/c2d4u4.0+/ubuntu bionic InRelease\n",
            "Ign:5 https://developer.download.nvidia.com/compute/machine-learning/repos/ubuntu1804/x86_64  InRelease\n",
            "Hit:6 https://developer.download.nvidia.com/compute/machine-learning/repos/ubuntu1804/x86_64  Release\n",
            "Hit:7 http://archive.ubuntu.com/ubuntu bionic InRelease\n",
            "Get:8 http://archive.ubuntu.com/ubuntu bionic-updates InRelease [88.7 kB]\n",
            "Hit:9 http://ppa.launchpad.net/cran/libgit2/ubuntu bionic InRelease\n",
            "Hit:10 http://ppa.launchpad.net/deadsnakes/ppa/ubuntu bionic InRelease\n",
            "Get:12 http://archive.ubuntu.com/ubuntu bionic-backports InRelease [74.6 kB]\n",
            "Hit:13 http://ppa.launchpad.net/graphics-drivers/ppa/ubuntu bionic InRelease\n",
            "Get:14 http://security.ubuntu.com/ubuntu bionic-security/multiverse amd64 Packages [22.8 kB]\n",
            "Get:15 http://security.ubuntu.com/ubuntu bionic-security/restricted amd64 Packages [1,013 kB]\n",
            "Get:16 http://security.ubuntu.com/ubuntu bionic-security/universe amd64 Packages [1,521 kB]\n",
            "Get:17 http://archive.ubuntu.com/ubuntu bionic-updates/universe amd64 Packages [2,297 kB]\n",
            "Get:18 http://security.ubuntu.com/ubuntu bionic-security/main amd64 Packages [2,866 kB]\n",
            "Get:19 http://archive.ubuntu.com/ubuntu bionic-updates/main amd64 Packages [3,298 kB]\n",
            "Get:20 http://archive.ubuntu.com/ubuntu bionic-updates/multiverse amd64 Packages [29.8 kB]\n",
            "Get:21 http://archive.ubuntu.com/ubuntu bionic-updates/restricted amd64 Packages [1,047 kB]\n",
            "Get:22 http://archive.ubuntu.com/ubuntu bionic-backports/main amd64 Packages [12.2 kB]\n",
            "Fetched 12.4 MB in 6s (2,135 kB/s)\n",
            "Reading package lists... Done\n"
          ]
        }
      ],
      "source": [
        "import os\n",
        "# Find the latest version of spark 3.0 from http://www.apache.org/dist/spark/ and enter as the spark version\n",
        "# For example:\n",
        "# spark_version = 'spark-3.0.3'\n",
        "spark_version = 'spark-3.2.1'\n",
        "os.environ['SPARK_VERSION']=spark_version\n",
        "\n",
        "# Install Spark and Java\n",
        "!apt-get update\n",
        "!apt-get install openjdk-11-jdk-headless -qq > /dev/null\n",
        "!wget -q http://www.apache.org/dist/spark/$SPARK_VERSION/$SPARK_VERSION-bin-hadoop2.7.tgz\n",
        "!tar xf $SPARK_VERSION-bin-hadoop2.7.tgz\n",
        "!pip install -q findspark\n",
        "\n",
        "# Set Environment Variables\n",
        "import os\n",
        "os.environ[\"JAVA_HOME\"] = \"/usr/lib/jvm/java-11-openjdk-amd64\"\n",
        "os.environ[\"SPARK_HOME\"] = f\"/content/{spark_version}-bin-hadoop2.7\"\n",
        "\n",
        "# Start a SparkSession\n",
        "import findspark\n",
        "findspark.init()"
      ]
    },
    {
      "cell_type": "code",
      "source": [
        "# Download the Postgres driver that will allow Spark to interact with Postgres.\n",
        "!wget https://jdbc.postgresql.org/download/postgresql-42.2.16.jar"
      ],
      "metadata": {
        "colab": {
          "base_uri": "https://localhost:8080/"
        },
        "id": "HXh0pcJZPiUv",
        "outputId": "70eac6d7-76e7-4882-c147-41d7a6102ed2"
      },
      "execution_count": null,
      "outputs": [
        {
          "output_type": "stream",
          "name": "stdout",
          "text": [
            "--2022-06-24 04:45:14--  https://jdbc.postgresql.org/download/postgresql-42.2.16.jar\n",
            "Resolving jdbc.postgresql.org (jdbc.postgresql.org)... 72.32.157.228, 2001:4800:3e1:1::228\n",
            "Connecting to jdbc.postgresql.org (jdbc.postgresql.org)|72.32.157.228|:443... connected.\n",
            "HTTP request sent, awaiting response... 200 OK\n",
            "Length: 1002883 (979K) [application/java-archive]\n",
            "Saving to: ‘postgresql-42.2.16.jar’\n",
            "\n",
            "postgresql-42.2.16. 100%[===================>] 979.38K  1.22MB/s    in 0.8s    \n",
            "\n",
            "2022-06-24 04:45:16 (1.22 MB/s) - ‘postgresql-42.2.16.jar’ saved [1002883/1002883]\n",
            "\n"
          ]
        }
      ]
    },
    {
      "cell_type": "code",
      "source": [
        "from pyspark.sql import SparkSession\n",
        "spark = SparkSession.builder.appName(\"census_data_2000s\").config(\"spark.driver.extraClassPath\",\"/content/postgresql-42.2.16.jar\").getOrCreate()"
      ],
      "metadata": {
        "id": "iWTtQE78HrC7"
      },
      "execution_count": null,
      "outputs": []
    },
    {
      "cell_type": "code",
      "source": [
        "from pyspark import SparkFiles\n",
        "url = \"https://pollution-sight-data.s3.us-west-1.amazonaws.com/census_data_2000s.csv\"\n",
        "spark.sparkContext.addFile(url)\n",
        "census_2000s_df = spark.read.csv(SparkFiles.get(\"census_data_2000s.csv\"), header=True, inferSchema=True)\n",
        "census_2000s_df.show()"
      ],
      "metadata": {
        "colab": {
          "base_uri": "https://localhost:8080/"
        },
        "id": "iUa8wcc3Iq7-",
        "outputId": "55e27828-efa3-4ca3-98f2-e03021025527"
      },
      "execution_count": null,
      "outputs": [
        {
          "output_type": "stream",
          "name": "stdout",
          "text": [
            "+-------------------+-------+---------------+---------------+---------------+---------------+---------------+---------------+---------------+---------------+---------------+---------------+---------------+\n",
            "|               NAME| STNAME|POPESTIMATE2000|POPESTIMATE2001|POPESTIMATE2002|POPESTIMATE2003|POPESTIMATE2004|POPESTIMATE2005|POPESTIMATE2006|POPESTIMATE2007|POPESTIMATE2008|POPESTIMATE2009|POPESTIMATE2010|\n",
            "+-------------------+-------+---------------+---------------+---------------+---------------+---------------+---------------+---------------+---------------+---------------+---------------+---------------+\n",
            "|            Alabama|Alabama|        4452173|        4467634|        4480089|        4503491|        4530729|        4569805|        4628981|        4672840|        4718206|        4757938|        4785298|\n",
            "|     Abbeville city|Alabama|           2985|           2941|           2909|           2882|           2857|           2820|           2807|           2784|           2742|           2714|           2689|\n",
            "|    Adamsville city|Alabama|           5021|           4960|           4894|           4841|           4784|           4728|           4687|           4633|           4594|           4558|           4523|\n",
            "|       Addison town|Alabama|            701|            701|            708|            714|            722|            729|            741|            750|            752|            759|            755|\n",
            "|         Akron town|Alabama|            485|            473|            454|            442|            426|            416|            404|            395|            384|            369|            355|\n",
            "|     Alabaster city|Alabama|          24116|          24674|          25223|          25957|          26739|          27504|          28462|          29020|          29630|          30107|          30468|\n",
            "|   Albertville city|Alabama|          17440|          17601|          17948|          18294|          18608|          19051|          19565|          20014|          20482|          20875|          21209|\n",
            "|Alexander City city|Alabama|          15090|          14964|          14812|          14738|          14721|          14685|          14804|          14848|          14922|          14964|          14839|\n",
            "|    Aliceville city|Alabama|           2624|           2623|           2619|           2581|           2563|           2540|           2532|           2515|           2511|           2494|           2481|\n",
            "|       Allgood town|Alabama|            661|            658|            655|            654|            650|            645|            643|            641|            638|            631|            622|\n",
            "|       Altoona town|Alabama|            969|            962|            956|            952|            947|            945|            942|            942|            939|            934|            933|\n",
            "|     Andalusia city|Alabama|           9098|           8979|           8925|           8901|           8874|           8953|           8994|           9024|           8989|           8999|           9018|\n",
            "|      Anderson town|Alabama|            326|            319|            312|            307|            303|            299|            296|            293|            290|            286|            282|\n",
            "|      Anniston city|Alabama|          24148|          23915|          23717|          23687|          23603|          23553|          23470|          23360|          23313|          23262|          23094|\n",
            "|          Arab city|Alabama|           7430|           7401|           7453|           7503|           7540|           7631|           7747|           7839|           7934|           8004|           8069|\n",
            "|       Ardmore town|Alabama|           1035|           1039|           1039|           1042|           1050|           1066|           1092|           1119|           1148|           1179|           1200|\n",
            "|          Argo town|Alabama|           2210|           2370|           2532|           2692|           2876|           3075|           3328|           3587|           3780|           3968|           4079|\n",
            "|        Ariton town|Alabama|            781|            780|            778|            772|            769|            763|            760|            762|            765|            761|            766|\n",
            "|         Arley town|Alabama|            518|            497|            481|            465|            450|            435|            422|            407|            388|            372|            356|\n",
            "|       Ashford town|Alabama|           1842|           1858|           1872|           1905|           1936|           1967|           2012|           2056|           2091|           2123|           2155|\n",
            "+-------------------+-------+---------------+---------------+---------------+---------------+---------------+---------------+---------------+---------------+---------------+---------------+---------------+\n",
            "only showing top 20 rows\n",
            "\n"
          ]
        }
      ]
    },
    {
      "cell_type": "code",
      "source": [
        "census_2000s_df.printSchema()"
      ],
      "metadata": {
        "colab": {
          "base_uri": "https://localhost:8080/"
        },
        "id": "9nlbCrwDNnBM",
        "outputId": "e0bb9f9a-bf80-4d5e-906e-c27894f343ee"
      },
      "execution_count": null,
      "outputs": [
        {
          "output_type": "stream",
          "name": "stdout",
          "text": [
            "root\n",
            " |-- NAME: string (nullable = true)\n",
            " |-- STNAME: string (nullable = true)\n",
            " |-- POPESTIMATE2000: integer (nullable = true)\n",
            " |-- POPESTIMATE2001: integer (nullable = true)\n",
            " |-- POPESTIMATE2002: integer (nullable = true)\n",
            " |-- POPESTIMATE2003: integer (nullable = true)\n",
            " |-- POPESTIMATE2004: integer (nullable = true)\n",
            " |-- POPESTIMATE2005: integer (nullable = true)\n",
            " |-- POPESTIMATE2006: integer (nullable = true)\n",
            " |-- POPESTIMATE2007: integer (nullable = true)\n",
            " |-- POPESTIMATE2008: integer (nullable = true)\n",
            " |-- POPESTIMATE2009: integer (nullable = true)\n",
            " |-- POPESTIMATE2010: integer (nullable = true)\n",
            "\n"
          ]
        }
      ]
    },
    {
      "cell_type": "code",
      "source": [
        "# Connect to AWS RDS instance\n",
        "# Store environmental variable\n",
        "from getpass import getpass\n",
        "password = getpass('Enter database password')\n",
        "\n",
        "# Configure settings for RDS\n",
        "mode = \"append\"\n",
        "jdbc_url=\"jdbc:postgresql://<connection_string>:5432/<database_name>\"\n",
        "config = {\"user\":\"postgres\", \n",
        "          \"password\": password, \n",
        "          \"driver\":\"org.postgresql.Driver\"}"
      ],
      "metadata": {
        "colab": {
          "base_uri": "https://localhost:8080/"
        },
        "id": "K5cxib9ePQJ8",
        "outputId": "af90976e-e07d-4f30-b57c-9a9a67a181a4"
      },
      "execution_count": null,
      "outputs": [
        {
          "name": "stdout",
          "output_type": "stream",
          "text": [
            "Enter database password··········\n"
          ]
        }
      ]
    },
    {
      "cell_type": "code",
      "source": [
        "# Write census_2000s_df to table in RDS\n",
        "census_2000s_df.write.jdbc(url=jdbc_url, table='census_data_2000s', mode=mode, properties=config)"
      ],
      "metadata": {
        "id": "12XBtzFDV4fK"
      },
      "execution_count": null,
      "outputs": []
    }
  ]
}