{
  "nbformat": 4,
  "nbformat_minor": 0,
  "metadata": {
    "colab": {
      "name": "census_data_2010s.ipynb",
      "provenance": [],
      "collapsed_sections": []
    },
    "kernelspec": {
      "name": "python3",
      "display_name": "Python 3"
    },
    "language_info": {
      "name": "python"
    }
  },
  "cells": [
    {
      "cell_type": "code",
      "execution_count": null,
      "metadata": {
        "colab": {
          "base_uri": "https://localhost:8080/"
        },
        "id": "6pQNaG1sPsiD",
        "outputId": "6d3d2fe4-802d-4da8-cea6-f6eafd0eb910"
      },
      "outputs": [
        {
          "output_type": "stream",
          "name": "stdout",
          "text": [
            "\r0% [Working]\r            \rHit:1 https://developer.download.nvidia.com/compute/cuda/repos/ubuntu1804/x86_64  InRelease\n",
            "\r0% [Connecting to archive.ubuntu.com (185.125.190.39)] [Connecting to security.\r0% [1 InRelease gpgv 1,581 B] [Connecting to archive.ubuntu.com (185.125.190.39\r                                                                               \rHit:2 https://cloud.r-project.org/bin/linux/ubuntu bionic-cran40/ InRelease\n",
            "Get:3 http://security.ubuntu.com/ubuntu bionic-security InRelease [88.7 kB]\n",
            "Hit:4 http://archive.ubuntu.com/ubuntu bionic InRelease\n",
            "Hit:5 http://ppa.launchpad.net/c2d4u.team/c2d4u4.0+/ubuntu bionic InRelease\n",
            "Ign:6 https://developer.download.nvidia.com/compute/machine-learning/repos/ubuntu1804/x86_64  InRelease\n",
            "Hit:7 https://developer.download.nvidia.com/compute/machine-learning/repos/ubuntu1804/x86_64  Release\n",
            "Get:8 http://archive.ubuntu.com/ubuntu bionic-updates InRelease [88.7 kB]\n",
            "Hit:9 http://ppa.launchpad.net/cran/libgit2/ubuntu bionic InRelease\n",
            "Hit:10 http://ppa.launchpad.net/deadsnakes/ppa/ubuntu bionic InRelease\n",
            "Get:11 http://archive.ubuntu.com/ubuntu bionic-backports InRelease [74.6 kB]\n",
            "Hit:12 http://ppa.launchpad.net/graphics-drivers/ppa/ubuntu bionic InRelease\n",
            "Fetched 252 kB in 3s (101 kB/s)\n",
            "Reading package lists... Done\n"
          ]
        }
      ],
      "source": [
        "import os\n",
        "# Find the latest version of spark 3.0 from http://www.apache.org/dist/spark/ and enter as the spark version\n",
        "# For example:\n",
        "# spark_version = 'spark-3.0.3'\n",
        "spark_version = 'spark-3.2.1'\n",
        "os.environ['SPARK_VERSION']=spark_version\n",
        "\n",
        "# Install Spark and Java\n",
        "!apt-get update\n",
        "!apt-get install openjdk-11-jdk-headless -qq > /dev/null\n",
        "!wget -q http://www.apache.org/dist/spark/$SPARK_VERSION/$SPARK_VERSION-bin-hadoop2.7.tgz\n",
        "!tar xf $SPARK_VERSION-bin-hadoop2.7.tgz\n",
        "!pip install -q findspark\n",
        "\n",
        "# Set Environment Variables\n",
        "import os\n",
        "os.environ[\"JAVA_HOME\"] = \"/usr/lib/jvm/java-11-openjdk-amd64\"\n",
        "os.environ[\"SPARK_HOME\"] = f\"/content/{spark_version}-bin-hadoop2.7\"\n",
        "\n",
        "# Start a SparkSession\n",
        "import findspark\n",
        "findspark.init()"
      ]
    },
    {
      "cell_type": "code",
      "source": [
        "# Download the Postgres driver that will allow Spark to interact with Postgres.\n",
        "!wget https://jdbc.postgresql.org/download/postgresql-42.2.16.jar"
      ],
      "metadata": {
        "colab": {
          "base_uri": "https://localhost:8080/"
        },
        "id": "HXh0pcJZPiUv",
        "outputId": "a8a859d5-a4fa-4489-f20c-48ad8062fc4b"
      },
      "execution_count": null,
      "outputs": [
        {
          "output_type": "stream",
          "name": "stdout",
          "text": [
            "--2022-06-24 03:49:32--  https://jdbc.postgresql.org/download/postgresql-42.2.16.jar\n",
            "Resolving jdbc.postgresql.org (jdbc.postgresql.org)... 72.32.157.228, 2001:4800:3e1:1::228\n",
            "Connecting to jdbc.postgresql.org (jdbc.postgresql.org)|72.32.157.228|:443... connected.\n",
            "HTTP request sent, awaiting response... 200 OK\n",
            "Length: 1002883 (979K) [application/java-archive]\n",
            "Saving to: ‘postgresql-42.2.16.jar.2’\n",
            "\n",
            "postgresql-42.2.16. 100%[===================>] 979.38K  5.63MB/s    in 0.2s    \n",
            "\n",
            "2022-06-24 03:49:32 (5.63 MB/s) - ‘postgresql-42.2.16.jar.2’ saved [1002883/1002883]\n",
            "\n"
          ]
        }
      ]
    },
    {
      "cell_type": "code",
      "source": [
        "from pyspark.sql import SparkSession\n",
        "spark = SparkSession.builder.appName(\"census_data_2010s\").config(\"spark.driver.extraClassPath\",\"/content/postgresql-42.2.16.jar\").getOrCreate()"
      ],
      "metadata": {
        "id": "iWTtQE78HrC7"
      },
      "execution_count": null,
      "outputs": []
    },
    {
      "cell_type": "code",
      "source": [
        "from pyspark import SparkFiles\n",
        "url = \"https://pollution-sight-data.s3.us-west-1.amazonaws.com/census_data_2010s.csv\"\n",
        "spark.sparkContext.addFile(url)\n",
        "census_2010s_df = spark.read.csv(SparkFiles.get(\"census_data_2010s.csv\"), header=True, inferSchema=True)\n",
        "census_2010s_df.show()"
      ],
      "metadata": {
        "colab": {
          "base_uri": "https://localhost:8080/"
        },
        "id": "iUa8wcc3Iq7-",
        "outputId": "412af74d-8e0a-4e1b-95ef-46cf10de8dc0"
      },
      "execution_count": null,
      "outputs": [
        {
          "output_type": "stream",
          "name": "stdout",
          "text": [
            "+-------------------+-------+---------------+---------------+---------------+---------------+---------------+---------------+---------------+---------------+---------------+---------------+-----------------+---------------+\n",
            "|               NAME| STNAME|POPESTIMATE2010|POPESTIMATE2011|POPESTIMATE2012|POPESTIMATE2013|POPESTIMATE2014|POPESTIMATE2015|POPESTIMATE2016|POPESTIMATE2017|POPESTIMATE2018|POPESTIMATE2019|POPESTIMATE042020|POPESTIMATE2020|\n",
            "+-------------------+-------+---------------+---------------+---------------+---------------+---------------+---------------+---------------+---------------+---------------+---------------+-----------------+---------------+\n",
            "|            Alabama|Alabama|        4785514|        4799642|        4816632|        4831586|        4843737|        4854803|        4866824|        4877989|        4891628|        4907965|          4920706|        4921532|\n",
            "|     Abbeville city|Alabama|           2699|           2694|           2645|           2629|           2610|           2602|           2587|           2578|           2565|           2555|             2555|           2553|\n",
            "|    Adamsville city|Alabama|           4481|           4474|           4453|           4430|           4399|           4371|           4335|           4304|           4285|           4254|             4224|           4211|\n",
            "|       Addison town|Alabama|            751|            750|            745|            744|            742|            734|            734|            728|            725|            723|              719|            717|\n",
            "|         Akron town|Alabama|            355|            347|            347|            344|            338|            338|            335|            332|            332|            328|              328|            327|\n",
            "|     Alabaster city|Alabama|          31192|          31361|          31673|          31969|          32177|          32767|          33040|          33291|          33442|          33522|            33665|          33701|\n",
            "|   Albertville city|Alabama|          21185|          21398|          21442|          21435|          21367|          21406|          21472|          21515|          21630|          21753|            21775|          21777|\n",
            "|Alexander City city|Alabama|          14925|          14894|          14761|          14829|          14776|          14642|          14602|          14535|          14438|          14284|            14182|          14142|\n",
            "|    Aliceville city|Alabama|           2478|           2423|           2412|           2385|           2358|           2348|           2330|           2321|           2278|           2258|             2236|           2231|\n",
            "|       Allgood town|Alabama|            618|            622|            624|            624|            624|            626|            625|            632|            634|            635|              637|            638|\n",
            "|       Altoona town|Alabama|            937|            935|            934|            930|            926|            922|            922|            923|            918|            916|              916|            915|\n",
            "|     Andalusia city|Alabama|           9022|           9063|           8993|           8985|           8970|           8908|           8843|           8729|           8673|           8660|             8679|           8677|\n",
            "|      Anderson town|Alabama|            281|            280|            279|            278|            278|            274|            273|            272|            268|            268|              268|            268|\n",
            "|      Anniston city|Alabama|          22945|          22796|          22597|          22416|          22243|          22069|          21892|          21731|          21525|          21306|            21159|          21090|\n",
            "|          Arab city|Alabama|           8102|           8196|           8231|           8241|           8224|           8244|           8282|           8312|           8361|           8398|             8406|           8406|\n",
            "|       Ardmore town|Alabama|           1203|           1249|           1274|           1301|           1339|           1352|           1376|           1400|           1426|           1465|             1502|           1513|\n",
            "|          Argo town|Alabama|           4011|           4035|           4060|           4108|           4107|           4128|           4170|           4195|           4227|           4255|             4272|           4278|\n",
            "|        Ariton town|Alabama|            759|            753|            754|            744|            740|            741|            741|            743|            740|            741|              739|            736|\n",
            "|         Arley town|Alabama|            356|            355|            352|            354|            352|            348|            347|            346|            343|            345|              342|            340|\n",
            "|       Ashford town|Alabama|           2160|           2170|           2183|           2174|           2176|           2172|           2169|           2168|           2174|           2199|             2203|           2202|\n",
            "+-------------------+-------+---------------+---------------+---------------+---------------+---------------+---------------+---------------+---------------+---------------+---------------+-----------------+---------------+\n",
            "only showing top 20 rows\n",
            "\n"
          ]
        }
      ]
    },
    {
      "cell_type": "code",
      "source": [
        "census_2010s_df = census_2010s_df.select(['NAME', 'STNAME', 'POPESTIMATE2011', 'POPESTIMATE2012', 'POPESTIMATE2013', 'POPESTIMATE2014', 'POPESTIMATE2015', 'POPESTIMATE2016', 'POPESTIMATE2017', 'POPESTIMATE2018', 'POPESTIMATE2019', 'POPESTIMATE2020'])\n",
        "census_2010s_df.show()"
      ],
      "metadata": {
        "colab": {
          "base_uri": "https://localhost:8080/"
        },
        "id": "seS720eC2s0r",
        "outputId": "1888e0bd-472c-4ed5-b7b6-789a1e6a76cc"
      },
      "execution_count": null,
      "outputs": [
        {
          "output_type": "stream",
          "name": "stdout",
          "text": [
            "+-------------------+-------+---------------+---------------+---------------+---------------+---------------+---------------+---------------+---------------+---------------+---------------+\n",
            "|               NAME| STNAME|POPESTIMATE2011|POPESTIMATE2012|POPESTIMATE2013|POPESTIMATE2014|POPESTIMATE2015|POPESTIMATE2016|POPESTIMATE2017|POPESTIMATE2018|POPESTIMATE2019|POPESTIMATE2020|\n",
            "+-------------------+-------+---------------+---------------+---------------+---------------+---------------+---------------+---------------+---------------+---------------+---------------+\n",
            "|            Alabama|Alabama|        4799642|        4816632|        4831586|        4843737|        4854803|        4866824|        4877989|        4891628|        4907965|        4921532|\n",
            "|     Abbeville city|Alabama|           2694|           2645|           2629|           2610|           2602|           2587|           2578|           2565|           2555|           2553|\n",
            "|    Adamsville city|Alabama|           4474|           4453|           4430|           4399|           4371|           4335|           4304|           4285|           4254|           4211|\n",
            "|       Addison town|Alabama|            750|            745|            744|            742|            734|            734|            728|            725|            723|            717|\n",
            "|         Akron town|Alabama|            347|            347|            344|            338|            338|            335|            332|            332|            328|            327|\n",
            "|     Alabaster city|Alabama|          31361|          31673|          31969|          32177|          32767|          33040|          33291|          33442|          33522|          33701|\n",
            "|   Albertville city|Alabama|          21398|          21442|          21435|          21367|          21406|          21472|          21515|          21630|          21753|          21777|\n",
            "|Alexander City city|Alabama|          14894|          14761|          14829|          14776|          14642|          14602|          14535|          14438|          14284|          14142|\n",
            "|    Aliceville city|Alabama|           2423|           2412|           2385|           2358|           2348|           2330|           2321|           2278|           2258|           2231|\n",
            "|       Allgood town|Alabama|            622|            624|            624|            624|            626|            625|            632|            634|            635|            638|\n",
            "|       Altoona town|Alabama|            935|            934|            930|            926|            922|            922|            923|            918|            916|            915|\n",
            "|     Andalusia city|Alabama|           9063|           8993|           8985|           8970|           8908|           8843|           8729|           8673|           8660|           8677|\n",
            "|      Anderson town|Alabama|            280|            279|            278|            278|            274|            273|            272|            268|            268|            268|\n",
            "|      Anniston city|Alabama|          22796|          22597|          22416|          22243|          22069|          21892|          21731|          21525|          21306|          21090|\n",
            "|          Arab city|Alabama|           8196|           8231|           8241|           8224|           8244|           8282|           8312|           8361|           8398|           8406|\n",
            "|       Ardmore town|Alabama|           1249|           1274|           1301|           1339|           1352|           1376|           1400|           1426|           1465|           1513|\n",
            "|          Argo town|Alabama|           4035|           4060|           4108|           4107|           4128|           4170|           4195|           4227|           4255|           4278|\n",
            "|        Ariton town|Alabama|            753|            754|            744|            740|            741|            741|            743|            740|            741|            736|\n",
            "|         Arley town|Alabama|            355|            352|            354|            352|            348|            347|            346|            343|            345|            340|\n",
            "|       Ashford town|Alabama|           2170|           2183|           2174|           2176|           2172|           2169|           2168|           2174|           2199|           2202|\n",
            "+-------------------+-------+---------------+---------------+---------------+---------------+---------------+---------------+---------------+---------------+---------------+---------------+\n",
            "only showing top 20 rows\n",
            "\n"
          ]
        }
      ]
    },
    {
      "cell_type": "code",
      "source": [
        "census_2010s_df.printSchema()"
      ],
      "metadata": {
        "colab": {
          "base_uri": "https://localhost:8080/"
        },
        "id": "9nlbCrwDNnBM",
        "outputId": "3f3d0c4e-a516-470d-8cf1-5314c9bb4aa3"
      },
      "execution_count": null,
      "outputs": [
        {
          "output_type": "stream",
          "name": "stdout",
          "text": [
            "root\n",
            " |-- NAME: string (nullable = true)\n",
            " |-- STNAME: string (nullable = true)\n",
            " |-- POPESTIMATE2011: integer (nullable = true)\n",
            " |-- POPESTIMATE2012: integer (nullable = true)\n",
            " |-- POPESTIMATE2013: integer (nullable = true)\n",
            " |-- POPESTIMATE2014: integer (nullable = true)\n",
            " |-- POPESTIMATE2015: integer (nullable = true)\n",
            " |-- POPESTIMATE2016: integer (nullable = true)\n",
            " |-- POPESTIMATE2017: integer (nullable = true)\n",
            " |-- POPESTIMATE2018: integer (nullable = true)\n",
            " |-- POPESTIMATE2019: integer (nullable = true)\n",
            " |-- POPESTIMATE2020: integer (nullable = true)\n",
            "\n"
          ]
        }
      ]
    },
    {
      "cell_type": "code",
      "source": [
        "# Connect to AWS RDS instance\n",
        "# Store environmental variable\n",
        "from getpass import getpass\n",
        "password = getpass('Enter database password')\n",
        "\n",
        "# Configure settings for RDS\n",
        "mode = \"append\"\n",
        "jdbc_url=\"jdbc:postgresql://<connection_string>:5432/<database_name>\"\n",
        "config = {\"user\":\"postgres\", \n",
        "          \"password\": password, \n",
        "          \"driver\":\"org.postgresql.Driver\"}"
      ],
      "metadata": {
        "colab": {
          "base_uri": "https://localhost:8080/"
        },
        "id": "K5cxib9ePQJ8",
        "outputId": "af90976e-e07d-4f30-b57c-9a9a67a181a4"
      },
      "execution_count": null,
      "outputs": [
        {
          "name": "stdout",
          "output_type": "stream",
          "text": [
            "Enter database password··········\n"
          ]
        }
      ]
    },
    {
      "cell_type": "code",
      "source": [
        "# Write census_2010s_df to table in RDS\n",
        "census_2010s_df.write.jdbc(url=jdbc_url, table='census_data_2010s', mode=mode, properties=config)"
      ],
      "metadata": {
        "id": "12XBtzFDV4fK"
      },
      "execution_count": null,
      "outputs": []
    }
  ]
}