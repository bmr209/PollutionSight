{
  "nbformat": 4,
  "nbformat_minor": 0,
  "metadata": {
    "colab": {
      "name": "us_pollution_2000_2016.ipynb",
      "provenance": [],
      "collapsed_sections": []
    },
    "kernelspec": {
      "name": "python3",
      "display_name": "Python 3"
    },
    "language_info": {
      "name": "python"
    }
  },
  "cells": [
    {
      "cell_type": "code",
      "execution_count": null,
      "metadata": {
        "colab": {
          "base_uri": "https://localhost:8080/"
        },
        "id": "6pQNaG1sPsiD",
        "outputId": "323f7ef4-3394-4cb1-94cb-0c0a66624577"
      },
      "outputs": [
        {
          "output_type": "stream",
          "name": "stdout",
          "text": [
            "\r0% [Working]\r            \rGet:1 https://cloud.r-project.org/bin/linux/ubuntu bionic-cran40/ InRelease [3,626 B]\n",
            "\r0% [Waiting for headers] [Connecting to security.ubuntu.com (185.125.190.39)] [\r0% [Waiting for headers] [Connecting to security.ubuntu.com (185.125.190.39)] [\r                                                                               \rHit:2 http://archive.ubuntu.com/ubuntu bionic InRelease\n",
            "\r                                                                               \rHit:3 https://developer.download.nvidia.com/compute/cuda/repos/ubuntu1804/x86_64  InRelease\n",
            "\r0% [Waiting for headers] [Connecting to security.ubuntu.com (185.125.190.39)] [\r0% [1 InRelease gpgv 3,626 B] [Waiting for headers] [Connecting to security.ubu\r                                                                               \rGet:4 http://archive.ubuntu.com/ubuntu bionic-updates InRelease [88.7 kB]\n",
            "\r0% [1 InRelease gpgv 3,626 B] [4 InRelease 15.6 kB/88.7 kB 18%] [Waiting for he\r                                                                               \rIgn:5 https://developer.download.nvidia.com/compute/machine-learning/repos/ubuntu1804/x86_64  InRelease\n",
            "\r0% [1 InRelease gpgv 3,626 B] [4 InRelease 47.5 kB/88.7 kB 54%] [Waiting for he\r                                                                               \rHit:6 https://developer.download.nvidia.com/compute/machine-learning/repos/ubuntu1804/x86_64  Release\n",
            "\r0% [1 InRelease gpgv 3,626 B] [4 InRelease 53.3 kB/88.7 kB 60%] [Waiting for he\r0% [1 InRelease gpgv 3,626 B] [Waiting for headers] [Waiting for headers] [Wait\r                                                                               \rHit:7 http://ppa.launchpad.net/c2d4u.team/c2d4u4.0+/ubuntu bionic InRelease\n",
            "Get:8 http://security.ubuntu.com/ubuntu bionic-security InRelease [88.7 kB]\n",
            "Get:9 http://archive.ubuntu.com/ubuntu bionic-backports InRelease [74.6 kB]\n",
            "Hit:10 http://ppa.launchpad.net/cran/libgit2/ubuntu bionic InRelease\n",
            "Hit:11 http://ppa.launchpad.net/deadsnakes/ppa/ubuntu bionic InRelease\n",
            "Hit:12 http://ppa.launchpad.net/graphics-drivers/ppa/ubuntu bionic InRelease\n",
            "Get:14 http://archive.ubuntu.com/ubuntu bionic-updates/universe amd64 Packages [2,297 kB]\n",
            "Get:15 http://archive.ubuntu.com/ubuntu bionic-updates/restricted amd64 Packages [1,047 kB]\n",
            "Get:16 http://archive.ubuntu.com/ubuntu bionic-updates/main amd64 Packages [3,298 kB]\n",
            "Get:17 http://archive.ubuntu.com/ubuntu bionic-updates/multiverse amd64 Packages [29.8 kB]\n",
            "Get:18 http://archive.ubuntu.com/ubuntu bionic-backports/main amd64 Packages [12.2 kB]\n",
            "Get:19 http://security.ubuntu.com/ubuntu bionic-security/restricted amd64 Packages [1,013 kB]\n",
            "Get:20 http://security.ubuntu.com/ubuntu bionic-security/multiverse amd64 Packages [22.8 kB]\n",
            "Get:21 http://security.ubuntu.com/ubuntu bionic-security/main amd64 Packages [2,866 kB]\n",
            "Get:22 http://security.ubuntu.com/ubuntu bionic-security/universe amd64 Packages [1,521 kB]\n",
            "Fetched 12.4 MB in 5s (2,332 kB/s)\n",
            "Reading package lists... Done\n"
          ]
        }
      ],
      "source": [
        "import os\n",
        "# Find the latest version of spark 3.0 from http://www.apache.org/dist/spark/ and enter as the spark version\n",
        "# For example:\n",
        "# spark_version = 'spark-3.0.3'\n",
        "spark_version = 'spark-3.2.1'\n",
        "os.environ['SPARK_VERSION']=spark_version\n",
        "\n",
        "# Install Spark and Java\n",
        "!apt-get update\n",
        "!apt-get install openjdk-11-jdk-headless -qq > /dev/null\n",
        "!wget -q http://www.apache.org/dist/spark/$SPARK_VERSION/$SPARK_VERSION-bin-hadoop2.7.tgz\n",
        "!tar xf $SPARK_VERSION-bin-hadoop2.7.tgz\n",
        "!pip install -q findspark\n",
        "\n",
        "# Set Environment Variables\n",
        "import os\n",
        "os.environ[\"JAVA_HOME\"] = \"/usr/lib/jvm/java-11-openjdk-amd64\"\n",
        "os.environ[\"SPARK_HOME\"] = f\"/content/{spark_version}-bin-hadoop2.7\"\n",
        "\n",
        "# Start a SparkSession\n",
        "import findspark\n",
        "findspark.init()"
      ]
    },
    {
      "cell_type": "code",
      "source": [
        "# Download the Postgres driver that will allow Spark to interact with Postgres.\n",
        "!wget https://jdbc.postgresql.org/download/postgresql-42.2.16.jar"
      ],
      "metadata": {
        "colab": {
          "base_uri": "https://localhost:8080/"
        },
        "id": "HXh0pcJZPiUv",
        "outputId": "fb590031-93e1-4321-e855-48270c9c299d"
      },
      "execution_count": null,
      "outputs": [
        {
          "output_type": "stream",
          "name": "stdout",
          "text": [
            "--2022-06-24 05:02:32--  https://jdbc.postgresql.org/download/postgresql-42.2.16.jar\n",
            "Resolving jdbc.postgresql.org (jdbc.postgresql.org)... 72.32.157.228, 2001:4800:3e1:1::228\n",
            "Connecting to jdbc.postgresql.org (jdbc.postgresql.org)|72.32.157.228|:443... connected.\n",
            "HTTP request sent, awaiting response... 200 OK\n",
            "Length: 1002883 (979K) [application/java-archive]\n",
            "Saving to: ‘postgresql-42.2.16.jar’\n",
            "\n",
            "postgresql-42.2.16. 100%[===================>] 979.38K  --.-KB/s    in 0.08s   \n",
            "\n",
            "2022-06-24 05:02:32 (11.3 MB/s) - ‘postgresql-42.2.16.jar’ saved [1002883/1002883]\n",
            "\n"
          ]
        }
      ]
    },
    {
      "cell_type": "code",
      "source": [
        "from pyspark.sql import SparkSession\n",
        "spark = SparkSession.builder.appName(\"US_Pollution_2000_2016\").config(\"spark.driver.extraClassPath\",\"/content/postgresql-42.2.16.jar\").getOrCreate()"
      ],
      "metadata": {
        "id": "iWTtQE78HrC7"
      },
      "execution_count": null,
      "outputs": []
    },
    {
      "cell_type": "code",
      "source": [
        "from pyspark import SparkFiles\n",
        "url = \"https://pollution-sight-data.s3.us-west-1.amazonaws.com/updated_us_pollution_2000_2016.csv\"\n",
        "spark.sparkContext.addFile(url)\n",
        "pollution_df = spark.read.csv(SparkFiles.get(\"updated_us_pollution_2000_2016.csv\"), header=True, inferSchema=True)\n",
        "pollution_df.show()"
      ],
      "metadata": {
        "colab": {
          "base_uri": "https://localhost:8080/"
        },
        "id": "iUa8wcc3Iq7-",
        "outputId": "6300bd63-7bfb-45d2-ed0b-ddde88b3c53f"
      },
      "execution_count": null,
      "outputs": [
        {
          "output_type": "stream",
          "name": "stdout",
          "text": [
            "+-------+--------+-------+----------+---------+-----------+----------+------+--------+----------+---------+-----+---------+-----------+----------+------+--------+----------+---------+-----+\n",
            "|usstate|  county|   city|local_date|   no2avg|no2maxvalue|no2maxhour|no2aqi|   o3avg|o3maxvalue|o3maxhour|o3aqi|   so2avg|so2maxvalue|so2maxhour|so2aqi|   coavg|comaxvalue|comaxhour|coaqi|\n",
            "+-------+--------+-------+----------+---------+-----------+----------+------+--------+----------+---------+-----+---------+-----------+----------+------+--------+----------+---------+-----+\n",
            "|Arizona|Maricopa|Phoenix|2000-01-01|19.041667|       49.0|        19|    46|  0.0225|      0.04|       10|   34|      3.0|        9.0|        21|  13.0|0.878947|       2.2|       23| 25.0|\n",
            "|Arizona|Maricopa|Phoenix|2000-01-02|22.958333|       36.0|        19|    34|0.013375|     0.032|       10|   27| 1.958333|        3.0|        22|   4.0|1.066667|       2.3|        0| 26.0|\n",
            "|Arizona|Maricopa|Phoenix|2000-01-03|   38.125|       51.0|         8|    48|0.007958|     0.016|        9|   14|     5.25|       11.0|        19|  16.0|  1.7625|       2.5|        8| 28.0|\n",
            "|Arizona|Maricopa|Phoenix|2000-01-04| 40.26087|       74.0|         8|    72|0.014167|     0.033|        9|   28| 7.083333|       16.0|         8|  23.0|1.829167|       3.0|       23| 34.0|\n",
            "|Arizona|Maricopa|Phoenix|2000-01-05|    48.45|       61.0|        22|    58|0.006667|     0.012|        9|   10| 8.708333|       15.0|         7|  21.0|     2.7|       3.7|        2| 42.0|\n",
            "|Arizona|Maricopa|Phoenix|2000-01-06|    39.95|       73.0|         8|    71| 0.01175|     0.025|       10|   21| 6.761905|       17.0|         7|  24.0|2.308333|       3.6|        9| 41.0|\n",
            "|Arizona|Maricopa|Phoenix|2000-01-07|   29.625|       43.0|         9|    41|0.011625|     0.024|       10|   20| 8.666667|       21.0|         7|  30.0|1.829167|       3.5|       23| 40.0|\n",
            "|Arizona|Maricopa|Phoenix|2000-01-08|29.666667|       41.0|         0|    39| 0.00975|      0.02|       10|   17|     8.25|       18.0|         0|  26.0|  2.7875|       5.1|        2| 57.0|\n",
            "|Arizona|Maricopa|Phoenix|2000-01-09|25.083333|       37.0|        20|    35|0.010792|     0.022|       10|   19|      6.5|       13.0|        19|  19.0|   1.675|       2.8|        2| 32.0|\n",
            "|Arizona|Maricopa|Phoenix|2000-01-10|37.666667|       70.0|        20|    68|0.008458|     0.015|        9|   13| 9.958333|       21.0|        20|  30.0|2.179167|       3.7|       23| 42.0|\n",
            "|Arizona|Maricopa|Phoenix|2000-01-11|     50.5|       81.0|        22|    80|0.008417|     0.017|       10|   14|   11.625|       24.0|        22|  34.0|2.533333|       4.5|        1| 51.0|\n",
            "|Arizona|Maricopa|Phoenix|2000-01-12|   49.125|       81.0|        21|    80|0.008208|     0.014|        9|   12|10.916667|       26.0|        21|  37.0|2.316667|       4.2|        0| 48.0|\n",
            "|Arizona|Maricopa|Phoenix|2000-01-13|73.285714|      117.0|        22|   104|0.006167|      0.01|        9|    8|10.952381|       21.0|        22|  30.0|2.958333|       4.6|       23| 52.0|\n",
            "|Arizona|Maricopa|Phoenix|2000-01-14|66.541667|      124.0|        10|   105|0.008708|     0.018|        8|   15|   11.625|       29.0|         8|  41.0|   3.575|       5.3|        1| 59.0|\n",
            "|Arizona|Maricopa|Phoenix|2000-01-15|53.166667|       87.0|        22|    86|0.010625|     0.022|        9|   19| 9.583333|       22.0|        20|  31.0|   2.175|       4.5|       23| 51.0|\n",
            "|Arizona|Maricopa|Phoenix|2000-01-16|    45.75|       73.0|        19|    71| 0.01075|     0.023|        9|   19| 6.458333|       13.0|        19|  19.0|  1.9625|       4.8|        0| 54.0|\n",
            "|Arizona|Maricopa|Phoenix|2000-01-17|    59.25|      101.0|        23|   101|0.008375|     0.015|        8|   13|      8.5|       19.0|        23|  27.0|  1.9875|       3.9|       23| 44.0|\n",
            "|Arizona|Maricopa|Phoenix|2000-01-18|66.791667|      101.0|        22|   101|0.006333|      0.01|       11|    8|12.166667|       23.0|        22|  33.0|2.891667|       4.9|        2| 55.0|\n",
            "|Arizona|Maricopa|Phoenix|2000-01-19|59.041667|       87.0|        20|    86|0.006958|     0.013|        9|   11|10.166667|       22.0|        20|  31.0|    2.65|       4.9|        1| 55.0|\n",
            "|Arizona|Maricopa|Phoenix|2000-01-20|48.357143|       65.0|         0|    63|  0.0085|     0.016|       10|   14| 9.391304|       17.0|        21|  24.0|2.366667|       4.1|        1| 47.0|\n",
            "+-------+--------+-------+----------+---------+-----------+----------+------+--------+----------+---------+-----+---------+-----------+----------+------+--------+----------+---------+-----+\n",
            "only showing top 20 rows\n",
            "\n"
          ]
        }
      ]
    },
    {
      "cell_type": "code",
      "source": [
        "pollution_df.printSchema()"
      ],
      "metadata": {
        "colab": {
          "base_uri": "https://localhost:8080/"
        },
        "id": "9nlbCrwDNnBM",
        "outputId": "9c0345cd-40ea-4be0-88ef-e2cefee85a22"
      },
      "execution_count": null,
      "outputs": [
        {
          "output_type": "stream",
          "name": "stdout",
          "text": [
            "root\n",
            " |-- usstate: string (nullable = true)\n",
            " |-- county: string (nullable = true)\n",
            " |-- city: string (nullable = true)\n",
            " |-- local_date: string (nullable = true)\n",
            " |-- no2avg: double (nullable = true)\n",
            " |-- no2maxvalue: double (nullable = true)\n",
            " |-- no2maxhour: integer (nullable = true)\n",
            " |-- no2aqi: integer (nullable = true)\n",
            " |-- o3avg: double (nullable = true)\n",
            " |-- o3maxvalue: double (nullable = true)\n",
            " |-- o3maxhour: integer (nullable = true)\n",
            " |-- o3aqi: integer (nullable = true)\n",
            " |-- so2avg: double (nullable = true)\n",
            " |-- so2maxvalue: double (nullable = true)\n",
            " |-- so2maxhour: integer (nullable = true)\n",
            " |-- so2aqi: double (nullable = true)\n",
            " |-- coavg: double (nullable = true)\n",
            " |-- comaxvalue: double (nullable = true)\n",
            " |-- comaxhour: integer (nullable = true)\n",
            " |-- coaqi: double (nullable = true)\n",
            "\n"
          ]
        }
      ]
    },
    {
      "cell_type": "code",
      "source": [
        "# Convert local_date column to date\n",
        "from pyspark.sql.functions import to_date \n",
        "pollution_df = pollution_df.select([\"usstate\", \"county\", \"city\", to_date(\"local_date\", \"yyyy-MM-dd\").alias(\"local_date\"), \"no2avg\", \"no2maxvalue\", \"no2maxhour\", \"no2aqi\", \"o3avg\", \"o3maxvalue\", \"o3maxhour\", \"o3aqi\", \"so2avg\", \"so2maxvalue\", \"so2maxhour\", \"so2aqi\", \"coavg\", \"comaxvalue\", \"comaxhour\", \"coaqi\"])\n",
        "pollution_df.show()"
      ],
      "metadata": {
        "colab": {
          "base_uri": "https://localhost:8080/"
        },
        "id": "IZ8QMSMlYKDo",
        "outputId": "44a4d291-c807-43dd-d0f1-35a2cbb91a71"
      },
      "execution_count": null,
      "outputs": [
        {
          "output_type": "stream",
          "name": "stdout",
          "text": [
            "+-------+--------+-------+----------+---------+-----------+----------+------+--------+----------+---------+-----+---------+-----------+----------+------+--------+----------+---------+-----+\n",
            "|usstate|  county|   city|local_date|   no2avg|no2maxvalue|no2maxhour|no2aqi|   o3avg|o3maxvalue|o3maxhour|o3aqi|   so2avg|so2maxvalue|so2maxhour|so2aqi|   coavg|comaxvalue|comaxhour|coaqi|\n",
            "+-------+--------+-------+----------+---------+-----------+----------+------+--------+----------+---------+-----+---------+-----------+----------+------+--------+----------+---------+-----+\n",
            "|Arizona|Maricopa|Phoenix|2000-01-01|19.041667|       49.0|        19|    46|  0.0225|      0.04|       10|   34|      3.0|        9.0|        21|  13.0|0.878947|       2.2|       23| 25.0|\n",
            "|Arizona|Maricopa|Phoenix|2000-01-02|22.958333|       36.0|        19|    34|0.013375|     0.032|       10|   27| 1.958333|        3.0|        22|   4.0|1.066667|       2.3|        0| 26.0|\n",
            "|Arizona|Maricopa|Phoenix|2000-01-03|   38.125|       51.0|         8|    48|0.007958|     0.016|        9|   14|     5.25|       11.0|        19|  16.0|  1.7625|       2.5|        8| 28.0|\n",
            "|Arizona|Maricopa|Phoenix|2000-01-04| 40.26087|       74.0|         8|    72|0.014167|     0.033|        9|   28| 7.083333|       16.0|         8|  23.0|1.829167|       3.0|       23| 34.0|\n",
            "|Arizona|Maricopa|Phoenix|2000-01-05|    48.45|       61.0|        22|    58|0.006667|     0.012|        9|   10| 8.708333|       15.0|         7|  21.0|     2.7|       3.7|        2| 42.0|\n",
            "|Arizona|Maricopa|Phoenix|2000-01-06|    39.95|       73.0|         8|    71| 0.01175|     0.025|       10|   21| 6.761905|       17.0|         7|  24.0|2.308333|       3.6|        9| 41.0|\n",
            "|Arizona|Maricopa|Phoenix|2000-01-07|   29.625|       43.0|         9|    41|0.011625|     0.024|       10|   20| 8.666667|       21.0|         7|  30.0|1.829167|       3.5|       23| 40.0|\n",
            "|Arizona|Maricopa|Phoenix|2000-01-08|29.666667|       41.0|         0|    39| 0.00975|      0.02|       10|   17|     8.25|       18.0|         0|  26.0|  2.7875|       5.1|        2| 57.0|\n",
            "|Arizona|Maricopa|Phoenix|2000-01-09|25.083333|       37.0|        20|    35|0.010792|     0.022|       10|   19|      6.5|       13.0|        19|  19.0|   1.675|       2.8|        2| 32.0|\n",
            "|Arizona|Maricopa|Phoenix|2000-01-10|37.666667|       70.0|        20|    68|0.008458|     0.015|        9|   13| 9.958333|       21.0|        20|  30.0|2.179167|       3.7|       23| 42.0|\n",
            "|Arizona|Maricopa|Phoenix|2000-01-11|     50.5|       81.0|        22|    80|0.008417|     0.017|       10|   14|   11.625|       24.0|        22|  34.0|2.533333|       4.5|        1| 51.0|\n",
            "|Arizona|Maricopa|Phoenix|2000-01-12|   49.125|       81.0|        21|    80|0.008208|     0.014|        9|   12|10.916667|       26.0|        21|  37.0|2.316667|       4.2|        0| 48.0|\n",
            "|Arizona|Maricopa|Phoenix|2000-01-13|73.285714|      117.0|        22|   104|0.006167|      0.01|        9|    8|10.952381|       21.0|        22|  30.0|2.958333|       4.6|       23| 52.0|\n",
            "|Arizona|Maricopa|Phoenix|2000-01-14|66.541667|      124.0|        10|   105|0.008708|     0.018|        8|   15|   11.625|       29.0|         8|  41.0|   3.575|       5.3|        1| 59.0|\n",
            "|Arizona|Maricopa|Phoenix|2000-01-15|53.166667|       87.0|        22|    86|0.010625|     0.022|        9|   19| 9.583333|       22.0|        20|  31.0|   2.175|       4.5|       23| 51.0|\n",
            "|Arizona|Maricopa|Phoenix|2000-01-16|    45.75|       73.0|        19|    71| 0.01075|     0.023|        9|   19| 6.458333|       13.0|        19|  19.0|  1.9625|       4.8|        0| 54.0|\n",
            "|Arizona|Maricopa|Phoenix|2000-01-17|    59.25|      101.0|        23|   101|0.008375|     0.015|        8|   13|      8.5|       19.0|        23|  27.0|  1.9875|       3.9|       23| 44.0|\n",
            "|Arizona|Maricopa|Phoenix|2000-01-18|66.791667|      101.0|        22|   101|0.006333|      0.01|       11|    8|12.166667|       23.0|        22|  33.0|2.891667|       4.9|        2| 55.0|\n",
            "|Arizona|Maricopa|Phoenix|2000-01-19|59.041667|       87.0|        20|    86|0.006958|     0.013|        9|   11|10.166667|       22.0|        20|  31.0|    2.65|       4.9|        1| 55.0|\n",
            "|Arizona|Maricopa|Phoenix|2000-01-20|48.357143|       65.0|         0|    63|  0.0085|     0.016|       10|   14| 9.391304|       17.0|        21|  24.0|2.366667|       4.1|        1| 47.0|\n",
            "+-------+--------+-------+----------+---------+-----------+----------+------+--------+----------+---------+-----+---------+-----------+----------+------+--------+----------+---------+-----+\n",
            "only showing top 20 rows\n",
            "\n"
          ]
        }
      ]
    },
    {
      "cell_type": "code",
      "source": [
        "pollution_df.printSchema()"
      ],
      "metadata": {
        "colab": {
          "base_uri": "https://localhost:8080/"
        },
        "id": "NuWISMLDbt-P",
        "outputId": "23fa7b23-95d0-4e19-df3e-88f0b6b402f5"
      },
      "execution_count": null,
      "outputs": [
        {
          "output_type": "stream",
          "name": "stdout",
          "text": [
            "root\n",
            " |-- usstate: string (nullable = true)\n",
            " |-- county: string (nullable = true)\n",
            " |-- city: string (nullable = true)\n",
            " |-- local_date: date (nullable = true)\n",
            " |-- no2avg: double (nullable = true)\n",
            " |-- no2maxvalue: double (nullable = true)\n",
            " |-- no2maxhour: integer (nullable = true)\n",
            " |-- no2aqi: integer (nullable = true)\n",
            " |-- o3avg: double (nullable = true)\n",
            " |-- o3maxvalue: double (nullable = true)\n",
            " |-- o3maxhour: integer (nullable = true)\n",
            " |-- o3aqi: integer (nullable = true)\n",
            " |-- so2avg: double (nullable = true)\n",
            " |-- so2maxvalue: double (nullable = true)\n",
            " |-- so2maxhour: integer (nullable = true)\n",
            " |-- so2aqi: double (nullable = true)\n",
            " |-- coavg: double (nullable = true)\n",
            " |-- comaxvalue: double (nullable = true)\n",
            " |-- comaxhour: integer (nullable = true)\n",
            " |-- coaqi: double (nullable = true)\n",
            "\n"
          ]
        }
      ]
    },
    {
      "cell_type": "code",
      "source": [
        "# Connect to AWS RDS instance\n",
        "# Store environmental variable\n",
        "from getpass import getpass\n",
        "password = getpass('Enter database password')\n",
        "\n",
        "# Configure settings for RDS\n",
        "mode = \"append\"\n",
        "jdbc_url=\"jdbc:postgresql://<connection_string>:5432/<database_name>\"\n",
        "config = {\"user\":\"postgres\", \n",
        "          \"password\": password, \n",
        "          \"driver\":\"org.postgresql.Driver\"}"
      ],
      "metadata": {
        "colab": {
          "base_uri": "https://localhost:8080/"
        },
        "id": "K5cxib9ePQJ8",
        "outputId": "e380e9a4-bad0-40ee-ca16-49a40368a856"
      },
      "execution_count": null,
      "outputs": [
        {
          "name": "stdout",
          "output_type": "stream",
          "text": [
            "Enter database password··········\n"
          ]
        }
      ]
    },
    {
      "cell_type": "code",
      "source": [
        "# Write pollution_df to table in RDS\n",
        "pollution_df.write.jdbc(url=jdbc_url, table='us_pollution_2000_2016', mode=mode, properties=config)"
      ],
      "metadata": {
        "id": "12XBtzFDV4fK"
      },
      "execution_count": null,
      "outputs": []
    }
  ]
}