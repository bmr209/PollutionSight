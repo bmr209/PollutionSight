{
  "nbformat": 4,
  "nbformat_minor": 0,
  "metadata": {
    "colab": {
      "name": "us_pollution_2000_2016.ipynb",
      "provenance": [],
      "collapsed_sections": []
    },
    "kernelspec": {
      "name": "python3",
      "display_name": "Python 3"
    },
    "language_info": {
      "name": "python"
    }
  },
  "cells": [
    {
      "cell_type": "code",
      "execution_count": 1,
      "metadata": {
        "colab": {
          "base_uri": "https://localhost:8080/"
        },
        "id": "6pQNaG1sPsiD",
        "outputId": "846f6ca4-30a7-4516-fc9f-6d779db2083f"
      },
      "outputs": [
        {
          "output_type": "stream",
          "name": "stdout",
          "text": [
            "\r0% [Working]\r            \rHit:1 https://developer.download.nvidia.com/compute/cuda/repos/ubuntu1804/x86_64  InRelease\n",
            "\r0% [Connecting to archive.ubuntu.com] [Connecting to security.ubuntu.com] [Conn\r                                                                               \rGet:2 https://cloud.r-project.org/bin/linux/ubuntu bionic-cran40/ InRelease [3,626 B]\n",
            "\r0% [Connecting to archive.ubuntu.com] [Connecting to security.ubuntu.com] [Conn\r0% [1 InRelease gpgv 1,581 B] [Connecting to archive.ubuntu.com] [Connecting to\r                                                                               \rIgn:3 https://developer.download.nvidia.com/compute/machine-learning/repos/ubuntu1804/x86_64  InRelease\n",
            "\r0% [1 InRelease gpgv 1,581 B] [Connecting to archive.ubuntu.com] [Connecting to\r                                                                               \rHit:4 https://developer.download.nvidia.com/compute/machine-learning/repos/ubuntu1804/x86_64  Release\n",
            "\r0% [1 InRelease gpgv 1,581 B] [Connecting to archive.ubuntu.com] [Connecting to\r0% [Connecting to archive.ubuntu.com (185.125.190.36)] [Waiting for headers] [W\r0% [2 InRelease gpgv 3,626 B] [Connecting to archive.ubuntu.com (185.125.190.36\r                                                                               \rGet:5 http://security.ubuntu.com/ubuntu bionic-security InRelease [88.7 kB]\n",
            "Hit:6 http://ppa.launchpad.net/c2d4u.team/c2d4u4.0+/ubuntu bionic InRelease\n",
            "Hit:7 http://archive.ubuntu.com/ubuntu bionic InRelease\n",
            "Hit:8 http://ppa.launchpad.net/cran/libgit2/ubuntu bionic InRelease\n",
            "Get:9 http://archive.ubuntu.com/ubuntu bionic-updates InRelease [88.7 kB]\n",
            "Hit:11 http://ppa.launchpad.net/deadsnakes/ppa/ubuntu bionic InRelease\n",
            "Get:12 http://archive.ubuntu.com/ubuntu bionic-backports InRelease [74.6 kB]\n",
            "Hit:13 http://ppa.launchpad.net/graphics-drivers/ppa/ubuntu bionic InRelease\n",
            "Fetched 256 kB in 2s (103 kB/s)\n",
            "Reading package lists... Done\n"
          ]
        }
      ],
      "source": [
        "import os\n",
        "# Find the latest version of spark 3.0 from http://www.apache.org/dist/spark/ and enter as the spark version\n",
        "# For example:\n",
        "# spark_version = 'spark-3.0.3'\n",
        "spark_version = 'spark-3.2.1'\n",
        "os.environ['SPARK_VERSION']=spark_version\n",
        "\n",
        "# Install Spark and Java\n",
        "!apt-get update\n",
        "!apt-get install openjdk-11-jdk-headless -qq > /dev/null\n",
        "!wget -q http://www.apache.org/dist/spark/$SPARK_VERSION/$SPARK_VERSION-bin-hadoop2.7.tgz\n",
        "!tar xf $SPARK_VERSION-bin-hadoop2.7.tgz\n",
        "!pip install -q findspark\n",
        "\n",
        "# Set Environment Variables\n",
        "import os\n",
        "os.environ[\"JAVA_HOME\"] = \"/usr/lib/jvm/java-11-openjdk-amd64\"\n",
        "os.environ[\"SPARK_HOME\"] = f\"/content/{spark_version}-bin-hadoop2.7\"\n",
        "\n",
        "# Start a SparkSession\n",
        "import findspark\n",
        "findspark.init()"
      ]
    },
    {
      "cell_type": "code",
      "source": [
        "# Download the Postgres driver that will allow Spark to interact with Postgres.\n",
        "!wget https://jdbc.postgresql.org/download/postgresql-42.2.16.jar"
      ],
      "metadata": {
        "colab": {
          "base_uri": "https://localhost:8080/"
        },
        "id": "HXh0pcJZPiUv",
        "outputId": "e0143255-3a32-450a-a399-cbf6e7834f4d"
      },
      "execution_count": 2,
      "outputs": [
        {
          "output_type": "stream",
          "name": "stdout",
          "text": [
            "--2022-06-20 04:47:48--  https://jdbc.postgresql.org/download/postgresql-42.2.16.jar\n",
            "Resolving jdbc.postgresql.org (jdbc.postgresql.org)... 72.32.157.228, 2001:4800:3e1:1::228\n",
            "Connecting to jdbc.postgresql.org (jdbc.postgresql.org)|72.32.157.228|:443... connected.\n",
            "HTTP request sent, awaiting response... 200 OK\n",
            "Length: 1002883 (979K) [application/java-archive]\n",
            "Saving to: ‘postgresql-42.2.16.jar.2’\n",
            "\n",
            "postgresql-42.2.16. 100%[===================>] 979.38K  4.93MB/s    in 0.2s    \n",
            "\n",
            "2022-06-20 04:47:49 (4.93 MB/s) - ‘postgresql-42.2.16.jar.2’ saved [1002883/1002883]\n",
            "\n"
          ]
        }
      ]
    },
    {
      "cell_type": "code",
      "source": [
        "from pyspark.sql import SparkSession\n",
        "spark = SparkSession.builder.appName(\"US_Pollution_2000_2016\").config(\"spark.driver.extraClassPath\",\"/content/postgresql-42.2.16.jar\").getOrCreate()"
      ],
      "metadata": {
        "id": "iWTtQE78HrC7"
      },
      "execution_count": 3,
      "outputs": []
    },
    {
      "cell_type": "code",
      "source": [
        "from pyspark import SparkFiles\n",
        "url = \"https://pollution-sight-data.s3.us-west-1.amazonaws.com/updated_us_pollution_2000_2016.csv\"\n",
        "spark.sparkContext.addFile(url)\n",
        "pollution_df = spark.read.csv(SparkFiles.get(\"updated_us_pollution_2000_2016.csv\"), header=True, inferSchema=True)\n",
        "pollution_df.show()"
      ],
      "metadata": {
        "colab": {
          "base_uri": "https://localhost:8080/"
        },
        "id": "iUa8wcc3Iq7-",
        "outputId": "048724b8-dac7-44ce-9fed-bdc3ee2a4972"
      },
      "execution_count": 4,
      "outputs": [
        {
          "output_type": "stream",
          "name": "stdout",
          "text": [
            "+-------+--------+-------+----------+---------+-----------+----------+------+--------+----------+---------+-----+--------+-----------+----------+------+--------+----------+---------+-----+\n",
            "|usstate|  county|   city|local_date|   no2avg|no2maxvalue|no2maxhour|no2aqi|   o3avg|o3maxvalue|o3maxhour|o3aqi|  so2avg|so2maxvalue|so2maxhour|so2aqi|   coavg|comaxvalue|comaxhour|coaqi|\n",
            "+-------+--------+-------+----------+---------+-----------+----------+------+--------+----------+---------+-----+--------+-----------+----------+------+--------+----------+---------+-----+\n",
            "|Arizona|Maricopa|Phoenix|2000-01-01|19.041667|       49.0|        19|    46|  0.0225|      0.04|       10|   34|     3.0|        9.0|        21|  13.0|1.145833|       4.2|       21| null|\n",
            "|Arizona|Maricopa|Phoenix|2000-01-01|19.041667|       49.0|        19|    46|  0.0225|      0.04|       10|   34|     3.0|        9.0|        21|  13.0|0.878947|       2.2|       23| 25.0|\n",
            "|Arizona|Maricopa|Phoenix|2000-01-01|19.041667|       49.0|        19|    46|  0.0225|      0.04|       10|   34|   2.975|        6.6|        23|  null|1.145833|       4.2|       21| null|\n",
            "|Arizona|Maricopa|Phoenix|2000-01-01|19.041667|       49.0|        19|    46|  0.0225|      0.04|       10|   34|   2.975|        6.6|        23|  null|0.878947|       2.2|       23| 25.0|\n",
            "|Arizona|Maricopa|Phoenix|2000-01-02|22.958333|       36.0|        19|    34|0.013375|     0.032|       10|   27|1.958333|        3.0|        22|   4.0|    0.85|       1.6|       23| null|\n",
            "|Arizona|Maricopa|Phoenix|2000-01-02|22.958333|       36.0|        19|    34|0.013375|     0.032|       10|   27|1.958333|        3.0|        22|   4.0|1.066667|       2.3|        0| 26.0|\n",
            "|Arizona|Maricopa|Phoenix|2000-01-02|22.958333|       36.0|        19|    34|0.013375|     0.032|       10|   27|  1.9375|        2.6|        23|  null|    0.85|       1.6|       23| null|\n",
            "|Arizona|Maricopa|Phoenix|2000-01-02|22.958333|       36.0|        19|    34|0.013375|     0.032|       10|   27|  1.9375|        2.6|        23|  null|1.066667|       2.3|        0| 26.0|\n",
            "|Arizona|Maricopa|Phoenix|2000-01-03|   38.125|       51.0|         8|    48|0.007958|     0.016|        9|   14|    5.25|       11.0|        19|  16.0|1.929167|       4.4|        8| null|\n",
            "|Arizona|Maricopa|Phoenix|2000-01-03|   38.125|       51.0|         8|    48|0.007958|     0.016|        9|   14|    5.25|       11.0|        19|  16.0|  1.7625|       2.5|        8| 28.0|\n",
            "|Arizona|Maricopa|Phoenix|2000-01-03|   38.125|       51.0|         8|    48|0.007958|     0.016|        9|   14|     5.2|        8.3|        20|  null|1.929167|       4.4|        8| null|\n",
            "|Arizona|Maricopa|Phoenix|2000-01-03|   38.125|       51.0|         8|    48|0.007958|     0.016|        9|   14|     5.2|        8.3|        20|  null|  1.7625|       2.5|        8| 28.0|\n",
            "|Arizona|Maricopa|Phoenix|2000-01-04| 40.26087|       74.0|         8|    72|0.014167|     0.033|        9|   28|7.083333|       16.0|         8|  23.0|1.991667|       5.1|       21| null|\n",
            "|Arizona|Maricopa|Phoenix|2000-01-04| 40.26087|       74.0|         8|    72|0.014167|     0.033|        9|   28|7.083333|       16.0|         8|  23.0|1.829167|       3.0|       23| 34.0|\n",
            "|Arizona|Maricopa|Phoenix|2000-01-04| 40.26087|       74.0|         8|    72|0.014167|     0.033|        9|   28|    7.05|       12.6|         8|  null|1.991667|       5.1|       21| null|\n",
            "|Arizona|Maricopa|Phoenix|2000-01-04| 40.26087|       74.0|         8|    72|0.014167|     0.033|        9|   28|    7.05|       12.6|         8|  null|1.829167|       3.0|       23| 34.0|\n",
            "|Arizona|Maricopa|Phoenix|2000-01-05|    48.45|       61.0|        22|    58|0.006667|     0.012|        9|   10|8.708333|       15.0|         7|  21.0|2.620833|       5.6|        7| null|\n",
            "|Arizona|Maricopa|Phoenix|2000-01-05|    48.45|       61.0|        22|    58|0.006667|     0.012|        9|   10|8.708333|       15.0|         7|  21.0|     2.7|       3.7|        2| 42.0|\n",
            "|Arizona|Maricopa|Phoenix|2000-01-05|    48.45|       61.0|        22|    58|0.006667|     0.012|        9|   10|     8.7|       14.0|         8|  null|2.620833|       5.6|        7| null|\n",
            "|Arizona|Maricopa|Phoenix|2000-01-05|    48.45|       61.0|        22|    58|0.006667|     0.012|        9|   10|     8.7|       14.0|         8|  null|     2.7|       3.7|        2| 42.0|\n",
            "+-------+--------+-------+----------+---------+-----------+----------+------+--------+----------+---------+-----+--------+-----------+----------+------+--------+----------+---------+-----+\n",
            "only showing top 20 rows\n",
            "\n"
          ]
        }
      ]
    },
    {
      "cell_type": "code",
      "source": [
        "pollution_df.printSchema()"
      ],
      "metadata": {
        "colab": {
          "base_uri": "https://localhost:8080/"
        },
        "id": "9nlbCrwDNnBM",
        "outputId": "af587e5b-fdd5-4989-c6cc-26d38589a872"
      },
      "execution_count": 5,
      "outputs": [
        {
          "output_type": "stream",
          "name": "stdout",
          "text": [
            "root\n",
            " |-- usstate: string (nullable = true)\n",
            " |-- county: string (nullable = true)\n",
            " |-- city: string (nullable = true)\n",
            " |-- local_date: string (nullable = true)\n",
            " |-- no2avg: double (nullable = true)\n",
            " |-- no2maxvalue: double (nullable = true)\n",
            " |-- no2maxhour: integer (nullable = true)\n",
            " |-- no2aqi: integer (nullable = true)\n",
            " |-- o3avg: double (nullable = true)\n",
            " |-- o3maxvalue: double (nullable = true)\n",
            " |-- o3maxhour: integer (nullable = true)\n",
            " |-- o3aqi: integer (nullable = true)\n",
            " |-- so2avg: double (nullable = true)\n",
            " |-- so2maxvalue: double (nullable = true)\n",
            " |-- so2maxhour: integer (nullable = true)\n",
            " |-- so2aqi: double (nullable = true)\n",
            " |-- coavg: double (nullable = true)\n",
            " |-- comaxvalue: double (nullable = true)\n",
            " |-- comaxhour: integer (nullable = true)\n",
            " |-- coaqi: double (nullable = true)\n",
            "\n"
          ]
        }
      ]
    },
    {
      "cell_type": "code",
      "source": [
        "# Convert local_date column to date\n",
        "from pyspark.sql.functions import to_date \n",
        "pollution_df = pollution_df.select([\"usstate\", \"county\", \"city\", to_date(\"local_date\", \"yyyy-MM-dd\").alias(\"local_date\"), \"no2avg\", \"no2maxvalue\", \"no2maxhour\", \"no2aqi\", \"o3avg\", \"o3maxvalue\", \"o3maxhour\", \"o3aqi\", \"so2avg\", \"so2maxvalue\", \"so2maxhour\", \"so2aqi\", \"coavg\", \"comaxvalue\", \"comaxhour\", \"coaqi\"])\n",
        "pollution_df.show()"
      ],
      "metadata": {
        "colab": {
          "base_uri": "https://localhost:8080/"
        },
        "id": "IZ8QMSMlYKDo",
        "outputId": "33a947ac-205a-4ca4-f95f-48a797e14095"
      },
      "execution_count": 6,
      "outputs": [
        {
          "output_type": "stream",
          "name": "stdout",
          "text": [
            "+-------+--------+-------+----------+---------+-----------+----------+------+--------+----------+---------+-----+--------+-----------+----------+------+--------+----------+---------+-----+\n",
            "|usstate|  county|   city|local_date|   no2avg|no2maxvalue|no2maxhour|no2aqi|   o3avg|o3maxvalue|o3maxhour|o3aqi|  so2avg|so2maxvalue|so2maxhour|so2aqi|   coavg|comaxvalue|comaxhour|coaqi|\n",
            "+-------+--------+-------+----------+---------+-----------+----------+------+--------+----------+---------+-----+--------+-----------+----------+------+--------+----------+---------+-----+\n",
            "|Arizona|Maricopa|Phoenix|2000-01-01|19.041667|       49.0|        19|    46|  0.0225|      0.04|       10|   34|     3.0|        9.0|        21|  13.0|1.145833|       4.2|       21| null|\n",
            "|Arizona|Maricopa|Phoenix|2000-01-01|19.041667|       49.0|        19|    46|  0.0225|      0.04|       10|   34|     3.0|        9.0|        21|  13.0|0.878947|       2.2|       23| 25.0|\n",
            "|Arizona|Maricopa|Phoenix|2000-01-01|19.041667|       49.0|        19|    46|  0.0225|      0.04|       10|   34|   2.975|        6.6|        23|  null|1.145833|       4.2|       21| null|\n",
            "|Arizona|Maricopa|Phoenix|2000-01-01|19.041667|       49.0|        19|    46|  0.0225|      0.04|       10|   34|   2.975|        6.6|        23|  null|0.878947|       2.2|       23| 25.0|\n",
            "|Arizona|Maricopa|Phoenix|2000-01-02|22.958333|       36.0|        19|    34|0.013375|     0.032|       10|   27|1.958333|        3.0|        22|   4.0|    0.85|       1.6|       23| null|\n",
            "|Arizona|Maricopa|Phoenix|2000-01-02|22.958333|       36.0|        19|    34|0.013375|     0.032|       10|   27|1.958333|        3.0|        22|   4.0|1.066667|       2.3|        0| 26.0|\n",
            "|Arizona|Maricopa|Phoenix|2000-01-02|22.958333|       36.0|        19|    34|0.013375|     0.032|       10|   27|  1.9375|        2.6|        23|  null|    0.85|       1.6|       23| null|\n",
            "|Arizona|Maricopa|Phoenix|2000-01-02|22.958333|       36.0|        19|    34|0.013375|     0.032|       10|   27|  1.9375|        2.6|        23|  null|1.066667|       2.3|        0| 26.0|\n",
            "|Arizona|Maricopa|Phoenix|2000-01-03|   38.125|       51.0|         8|    48|0.007958|     0.016|        9|   14|    5.25|       11.0|        19|  16.0|1.929167|       4.4|        8| null|\n",
            "|Arizona|Maricopa|Phoenix|2000-01-03|   38.125|       51.0|         8|    48|0.007958|     0.016|        9|   14|    5.25|       11.0|        19|  16.0|  1.7625|       2.5|        8| 28.0|\n",
            "|Arizona|Maricopa|Phoenix|2000-01-03|   38.125|       51.0|         8|    48|0.007958|     0.016|        9|   14|     5.2|        8.3|        20|  null|1.929167|       4.4|        8| null|\n",
            "|Arizona|Maricopa|Phoenix|2000-01-03|   38.125|       51.0|         8|    48|0.007958|     0.016|        9|   14|     5.2|        8.3|        20|  null|  1.7625|       2.5|        8| 28.0|\n",
            "|Arizona|Maricopa|Phoenix|2000-01-04| 40.26087|       74.0|         8|    72|0.014167|     0.033|        9|   28|7.083333|       16.0|         8|  23.0|1.991667|       5.1|       21| null|\n",
            "|Arizona|Maricopa|Phoenix|2000-01-04| 40.26087|       74.0|         8|    72|0.014167|     0.033|        9|   28|7.083333|       16.0|         8|  23.0|1.829167|       3.0|       23| 34.0|\n",
            "|Arizona|Maricopa|Phoenix|2000-01-04| 40.26087|       74.0|         8|    72|0.014167|     0.033|        9|   28|    7.05|       12.6|         8|  null|1.991667|       5.1|       21| null|\n",
            "|Arizona|Maricopa|Phoenix|2000-01-04| 40.26087|       74.0|         8|    72|0.014167|     0.033|        9|   28|    7.05|       12.6|         8|  null|1.829167|       3.0|       23| 34.0|\n",
            "|Arizona|Maricopa|Phoenix|2000-01-05|    48.45|       61.0|        22|    58|0.006667|     0.012|        9|   10|8.708333|       15.0|         7|  21.0|2.620833|       5.6|        7| null|\n",
            "|Arizona|Maricopa|Phoenix|2000-01-05|    48.45|       61.0|        22|    58|0.006667|     0.012|        9|   10|8.708333|       15.0|         7|  21.0|     2.7|       3.7|        2| 42.0|\n",
            "|Arizona|Maricopa|Phoenix|2000-01-05|    48.45|       61.0|        22|    58|0.006667|     0.012|        9|   10|     8.7|       14.0|         8|  null|2.620833|       5.6|        7| null|\n",
            "|Arizona|Maricopa|Phoenix|2000-01-05|    48.45|       61.0|        22|    58|0.006667|     0.012|        9|   10|     8.7|       14.0|         8|  null|     2.7|       3.7|        2| 42.0|\n",
            "+-------+--------+-------+----------+---------+-----------+----------+------+--------+----------+---------+-----+--------+-----------+----------+------+--------+----------+---------+-----+\n",
            "only showing top 20 rows\n",
            "\n"
          ]
        }
      ]
    },
    {
      "cell_type": "code",
      "source": [
        "pollution_df.printSchema()"
      ],
      "metadata": {
        "colab": {
          "base_uri": "https://localhost:8080/"
        },
        "id": "NuWISMLDbt-P",
        "outputId": "e5d2b19e-cb4a-4557-8762-0ae2fc59eb01"
      },
      "execution_count": 7,
      "outputs": [
        {
          "output_type": "stream",
          "name": "stdout",
          "text": [
            "root\n",
            " |-- usstate: string (nullable = true)\n",
            " |-- county: string (nullable = true)\n",
            " |-- city: string (nullable = true)\n",
            " |-- local_date: date (nullable = true)\n",
            " |-- no2avg: double (nullable = true)\n",
            " |-- no2maxvalue: double (nullable = true)\n",
            " |-- no2maxhour: integer (nullable = true)\n",
            " |-- no2aqi: integer (nullable = true)\n",
            " |-- o3avg: double (nullable = true)\n",
            " |-- o3maxvalue: double (nullable = true)\n",
            " |-- o3maxhour: integer (nullable = true)\n",
            " |-- o3aqi: integer (nullable = true)\n",
            " |-- so2avg: double (nullable = true)\n",
            " |-- so2maxvalue: double (nullable = true)\n",
            " |-- so2maxhour: integer (nullable = true)\n",
            " |-- so2aqi: double (nullable = true)\n",
            " |-- coavg: double (nullable = true)\n",
            " |-- comaxvalue: double (nullable = true)\n",
            " |-- comaxhour: integer (nullable = true)\n",
            " |-- coaqi: double (nullable = true)\n",
            "\n"
          ]
        }
      ]
    },
    {
      "cell_type": "code",
      "source": [
        "# Connect to AWS RDS instance\n",
        "# Store environmental variable\n",
        "from getpass import getpass\n",
        "password = getpass('Enter database password')\n",
        "\n",
        "# Configure settings for RDS\n",
        "mode = \"append\"\n",
        "jdbc_url=\"jdbc:postgresql://<connection_string>:5432/<database_name>\"\n",
        "config = {\"user\":\"postgres\", \n",
        "          \"password\": password, \n",
        "          \"driver\":\"org.postgresql.Driver\"}"
      ],
      "metadata": {
        "colab": {
          "base_uri": "https://localhost:8080/"
        },
        "id": "K5cxib9ePQJ8",
        "outputId": "e380e9a4-bad0-40ee-ca16-49a40368a856"
      },
      "execution_count": 8,
      "outputs": [
        {
          "name": "stdout",
          "output_type": "stream",
          "text": [
            "Enter database password··········\n"
          ]
        }
      ]
    },
    {
      "cell_type": "code",
      "source": [
        "# Write pollution_df to table in RDS\n",
        "#pollution_df.write.jdbc(url=jdbc_url, table='us_pollution_2000_2016', mode=mode, properties=config)"
      ],
      "metadata": {
        "id": "12XBtzFDV4fK"
      },
      "execution_count": 10,
      "outputs": []
    }
  ]
}